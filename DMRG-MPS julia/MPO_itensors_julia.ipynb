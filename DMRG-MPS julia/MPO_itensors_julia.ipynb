{
 "cells": [
  {
   "cell_type": "code",
   "execution_count": 1,
   "id": "3caf7a77",
   "metadata": {},
   "outputs": [],
   "source": [
    "using LinearAlgebra\n",
    "using TensorOperations\n",
    "using ITensors, ITensorMPS\n",
    "using Plots"
   ]
  },
  {
   "cell_type": "code",
   "execution_count": 10,
   "id": "33e77fb9",
   "metadata": {},
   "outputs": [
    {
     "name": "stdout",
     "output_type": "stream",
     "text": [
      "Right canonical MPS bond structure MPS\n",
      "[1] ((dim=3|id=320|\"Site,n=1\"), (dim=20|id=714|\"Link,l=1\"))\n",
      "[2] ((dim=20|id=714|\"Link,l=1\"), (dim=3|id=431|\"Site,n=2\"), (dim=20|id=449|\"Link,l=2\"))\n",
      "[3] ((dim=20|id=449|\"Link,l=2\"), (dim=3|id=201|\"Site,n=3\"), (dim=20|id=523|\"Link,l=3\"))\n",
      "[4] ((dim=20|id=523|\"Link,l=3\"), (dim=3|id=513|\"Site,n=4\"), (dim=20|id=115|\"Link,l=4\"))\n",
      "[5] ((dim=20|id=115|\"Link,l=4\"), (dim=3|id=111|\"Site,n=5\"), (dim=20|id=421|\"Link,l=5\"))\n",
      "[6] ((dim=20|id=421|\"Link,l=5\"), (dim=3|id=179|\"Site,n=6\"), (dim=20|id=862|\"Link,l=6\"))\n",
      "[7] ((dim=20|id=862|\"Link,l=6\"), (dim=3|id=721|\"Site,n=7\"), (dim=20|id=741|\"Link,l=7\"))\n",
      "[8] ((dim=20|id=741|\"Link,l=7\"), (dim=3|id=702|\"Site,n=8\"), (dim=9|id=694|\"Link,l=8\"))\n",
      "[9] ((dim=9|id=694|\"Link,l=8\"), (dim=3|id=295|\"Site,n=9\"), (dim=3|id=733|\"Link,l=9\"))\n",
      "[10] ((dim=3|id=733|\"Link,l=9\"), (dim=3|id=108|\"Site,n=10\"))\n",
      "\n"
     ]
    }
   ],
   "source": [
    "N = 10\n",
    "s = siteinds(3,N)\n",
    "chi = 20\n",
    "mps = random_mps(s;linkdims=chi)\n",
    "println(\"Right canonical MPS bond structure $mps\")"
   ]
  },
  {
   "cell_type": "markdown",
   "id": "813fa60a",
   "metadata": {},
   "source": [
    "# MPOs of Hamiltonians\n",
    "\n",
    "$\\quad$ In this section, we show how to build the MPO of a model Hamiltonian, following the strategy explained in the manuscript. For concreteness, we focus on Hamiltonians of 1D quantum spin chains with open boundary conditions. A general representation of such an Hamiltonian MPO is depicted below, where $N$ is the number of sites in the chain and $d$ is the corresponding local dimension ($d=2s+1$ for a spin-$s$ system).\n",
    "\n",
    "<img src=\"./img/MPO_Hamiltonian.png\" width=\"50%\" style=\"display: block; margin-left: auto; margin-right: auto;\"/>\n",
    "<br>\n",
    "\n",
    "For clarity purposes, we consider four different examples, which should illustrate how to do it for a general model.\n",
    "\n",
    "## i) XY model\n",
    "\n",
    "$\\quad$ The Hamiltonian of an XY open-ended chain is given by\n",
    "$$\n",
    "\\hat{\\mathcal{H}}_\\text{XY} = -\\sum_{l=0}^{N-2} \\left( \\hat{\\sigma}^x_l \\hat{\\sigma}^x_{l+1} + \\hat{\\sigma}^y_l \\hat{\\sigma}^y_{l+1} \\right),\n",
    "$$\n",
    "where $N$ is the number of $s=1/2$ spins and $\\hat{\\sigma}^{x/y}_l$ are the $x$/$y$ spin-1/2 operators at site $l$.\n",
    "\n",
    "$\\quad$ Straightforward manipulation gives\n",
    "$$\n",
    "\\hat{\\mathcal{H}}_\\text{XY} = -\\frac{1}{2} \\sum_{l=0}^{N-2} \\left( \\hat{\\sigma}^+_l \\hat{\\sigma}^-_{l+1} + \\hat{\\sigma}^-_l \\hat{\\sigma}^+_{l+1} \\right),\n",
    "$$\n",
    "where $\\hat{\\sigma}^\\pm_l = \\hat{\\sigma}^x_l \\pm \\mathrm{i} \\hat{\\sigma}^y_l$ are the spin ladder operators."
   ]
  },
  {
   "cell_type": "code",
   "execution_count": 17,
   "id": "6027fd81",
   "metadata": {},
   "outputs": [],
   "source": [
    "N = 5\n",
    "s = siteinds(\"S=1/2\", N)\n",
    "\n",
    "os = OpSum()\n",
    "for j in 1:(N-1)\n",
    "    os += -0.5, \"S+\", j, \"S-\", j+1\n",
    "    os += -0.5, \"S-\", j, \"S+\", j+1\n",
    "end"
   ]
  },
  {
   "cell_type": "code",
   "execution_count": 18,
   "id": "b066f1aa",
   "metadata": {},
   "outputs": [
    {
     "name": "stdout",
     "output_type": "stream",
     "text": [
      "After sweep 1 energy=-1.3660143088205567  maxlinkdim=4 maxerr=6.37E-17 time=8.531\n",
      "After sweep 2 energy=-1.3660254037076882  maxlinkdim=4 maxerr=1.42E-15 time=0.011\n",
      "After sweep 3 energy=-1.3660254037844384  maxlinkdim=4 maxerr=1.17E-15 time=0.002\n",
      "After sweep 4 energy=-1.3660254037844397  maxlinkdim=4 maxerr=1.36E-15 time=0.002\n",
      "After sweep 5 energy=-1.3660254037844388  maxlinkdim=4 maxerr=1.31E-15 time=0.004\n",
      "Ground state energy from DMRG = -1.3660254037844388\n"
     ]
    }
   ],
   "source": [
    "H_mpo = MPO(os, s)\n",
    "\n",
    "# Setup DMRG sweeps\n",
    "sweeps = Sweeps(5)\n",
    "setmaxdim!(sweeps, 10, 20, 100, 100, 200)\n",
    "setcutoff!(sweeps, 1E-10)\n",
    "\n",
    "# Use the same site indices for the random MPS\n",
    "psi0 = randomMPS(s, 20)\n",
    "\n",
    "# Run DMRG to find ground state\n",
    "energy, psi = dmrg(H_mpo, psi0, sweeps)\n",
    "println(\"Ground state energy from DMRG = $energy\")"
   ]
  },
  {
   "cell_type": "code",
   "execution_count": null,
   "id": "d7873b14",
   "metadata": {},
   "outputs": [],
   "source": []
  }
 ],
 "metadata": {
  "kernelspec": {
   "display_name": "Julia 1.11.4",
   "language": "julia",
   "name": "julia-1.11"
  },
  "language_info": {
   "file_extension": ".jl",
   "mimetype": "application/julia",
   "name": "julia",
   "version": "1.11.4"
  }
 },
 "nbformat": 4,
 "nbformat_minor": 5
}
