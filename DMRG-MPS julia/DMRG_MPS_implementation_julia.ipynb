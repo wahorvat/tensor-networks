{
 "cells": [
  {
   "cell_type": "code",
   "execution_count": 1,
   "metadata": {},
   "outputs": [],
   "source": [
    "using LinearAlgebra\n",
    "using ITensors\n",
    "using Plots"
   ]
  },
  {
   "cell_type": "markdown",
   "metadata": {},
   "source": [
    "### Canonical Forms\n",
    "\n"
   ]
  },
  {
   "cell_type": "code",
   "execution_count": 2,
   "metadata": {},
   "outputs": [],
   "source": [
    "# parameters \n",
    "N = 10\n",
    "d = 3\n",
    "D = 20\n",
    "\n",
    "# random MPS\n",
    "#=\n",
    "    Order of legs: left-bottom-right\n",
    "    Note: this is the conventional order used for MPSs in the code.\n",
    "=#\n",
    "\n",
    "Mrand = []\n",
    "push!(Mrand, rand(1, d, D))\n",
    "for l in 2:N-1\n",
    "    push!(Mrand, rand(D, d, D))\n",
    "end\n",
    "push!(Mrand, rand(D, d, 1));\n"
   ]
  },
  {
   "cell_type": "code",
   "execution_count": 60,
   "metadata": {},
   "outputs": [
    {
     "data": {
      "text/plain": [
       "left_canonical (generic function with 3 methods)"
      ]
     },
     "metadata": {},
     "output_type": "display_data"
    }
   ],
   "source": [
    "#=\n",
    "    Function that takes an MPS 'M' as input and returns a copy of it that is\n",
    "    transformed into left canonical form and normalized.\n",
    "=#\n",
    "function left_canonical(M::Vector{Array{Float64,3}})\n",
    "    Mcopy = deepcopy(M)\n",
    "    N = length(Mcopy)\n",
    "\n",
    "    for l in 1:N-1\n",
    "        A = Mcopy[l]\n",
    "        (d1, d2, d3) = size(A)\n",
    "        A_mat = reshape(A, d1 * d2, d3)\n",
    "        U, S, Vt = svd(A_mat; full=false)\n",
    "        chi = size(U, 2)\n",
    "        Mcopy[l] = reshape(U, d1, d2, chi)\n",
    "\n",
    "        # Propagate S*Vt into next tensor\n",
    "        next_A = Mcopy[l+1]\n",
    "        tmp = S * Vt\n",
    "        tmpA = reshape(tmp, chi, 1, size(tmp, 2))  # add dummy middle leg for einsum\n",
    "        # Contract tmp with next_A over last index of tmp and first of next_A\n",
    "        Mcopy[l+1] = reshape(sum(tmpA .* permutedims(next_A, (2,3,1)), dims=3), size(tmpA,1), size(next_A,2), size(next_A,3))\n",
    "    end\n",
    "\n",
    "    return Mcopy\n",
    "end\n"
   ]
  }
 ],
 "metadata": {
  "kernelspec": {
   "display_name": "Julia 1.11.4",
   "language": "julia",
   "name": "julia-1.11"
  },
  "language_info": {
   "file_extension": ".jl",
   "mimetype": "application/julia",
   "name": "julia",
   "version": "1.11.4"
  }
 },
 "nbformat": 4,
 "nbformat_minor": 2
}
