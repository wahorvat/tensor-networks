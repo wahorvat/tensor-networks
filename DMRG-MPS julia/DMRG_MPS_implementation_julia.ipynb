{
 "cells": [
  {
   "cell_type": "code",
   "execution_count": 278,
   "metadata": {},
   "outputs": [],
   "source": [
    "using LinearAlgebra\n",
    "using TensorOperations\n",
    "using Plots"
   ]
  },
  {
   "cell_type": "markdown",
   "metadata": {},
   "source": [
    "### Canonical Forms\n",
    "\n",
    "$\\quad$ Before going into the implementation of DMRG, we first build a function that transforms an arbitrary MPS into a convenient canonical form.\n",
    "\n",
    "$\\quad$ We start by creating a random MPS with $N$ sites, physical dimension $d$ (for simplicity, equal in all sites) and bond dimension $D$ (for simplicity, equal in all bonds, except for the outer bonds, which are set trivial), as depicted below.\n",
    "\n",
    "<img src=\"./img/MPS.svg\" width=\"50%\" style=\"display: block; margin-left: auto; margin-right: auto;\"/>"
   ]
  },
  {
   "cell_type": "code",
   "execution_count": 280,
   "metadata": {},
   "outputs": [
    {
     "data": {
      "text/plain": [
       "10-element Vector{Any}:\n",
       " [0.7873314361666243 0.6700993490838282 0.4612319243579672;;; 0.8643381144071688 0.6591711822597706 0.8483063423551799;;; 0.7220327850783638 0.3461381184677358 0.7953659418454534;;; … ;;; 0.977016818686399 0.33578002264978835 0.05811921239622708;;; 0.3488085009567887 0.13514670666250006 0.7498791852812725;;; 0.16908120566430584 0.6470369270620652 0.16203780248556776]\n",
       " [0.6529169793605097 0.9287335406760134 0.06375746191703624; 0.7323633205698474 0.23816836019144072 0.20822970475595315; … ; 0.49536020259576996 0.3150342587362074 0.7347248812468771; 0.6270370528858229 0.635039107302168 0.7464090973994506;;; 0.20043279469529807 0.5480963732614941 0.3987698976388744; 0.7327820431896006 0.4510065840547315 0.7602438713192524; … ; 0.8766476243547221 0.16904022098612992 0.7168043631691124; 0.3164073018963376 0.2987381803189215 0.6323115958747844;;; 0.6008151060787017 0.18492840844195935 0.007186773070864572; 0.5429982900583028 0.1369078378840931 0.3053300774083135; … ; 0.17046498815981204 0.31595475315965194 0.6886366092994823; 0.5259046863583346 0.5332748670161496 0.989251346156403;;; … ;;; 0.7537575867352609 0.32790939923644913 0.02436672751453739; 0.9637373068027076 0.9308599208143803 0.7321660283904822; … ; 0.8075196911382156 0.3408148375530783 0.310598237571727; 0.15019056255681218 0.031429362574380226 0.15329325576491026;;; 0.46909049144765314 0.8642876329261101 0.6690285241528071; 0.6554518134793776 0.6415176272889336 0.15509347833692877; … ; 0.7596105571024458 0.16652610060455153 0.05214268455489823; 0.3401113827654315 0.18355323743341223 0.8173137077816032;;; 0.402877652926489 0.24219155132534653 0.4959327066536645; 0.6057485269654125 0.7389904198173929 0.5415441253798345; … ; 0.6087248709272816 0.21745995158824372 0.20572908452190186; 0.5484901919593966 0.5978840966317532 0.6478936263716095]\n",
       " [0.9603322903485652 0.12696868934714212 0.8159793991588415; 0.6820643066146808 0.06582281608111029 0.9948525447461841; … ; 0.9057115027676789 0.45369600098493745 0.39892035379932433; 0.9592696092737941 0.948656368178289 0.1632086473109685;;; 0.062292349930192725 0.1487494394054254 0.8450431963762909; 0.7869493026427421 0.4609809859274844 0.19767451741056385; … ; 0.10400115756994299 0.5516609002907018 0.8162751970093132; 0.7938458734754632 0.11271010911579415 0.16308039122068674;;; 0.0033017000689483655 0.1483491686716153 0.017043308014495495; 0.0031711162247256564 0.6812422092785826 0.07438777015183828; … ; 0.12466740707448798 0.2953376325143048 0.3848560705044959; 0.9199619553808315 0.32150392044775444 0.8411154809123484;;; … ;;; 0.04960100673504697 0.11314455214177 0.5385119265702386; 0.10475643796734535 0.12999017177650296 0.7777533027074541; … ; 0.05281861359184303 0.7381321889559382 0.03177399972684414; 0.8501338019841157 0.9177826126662593 0.7010058660990964;;; 0.6726479244350531 0.5518344944588022 0.5501910749209835; 0.26558340056691154 0.4983992528865615 0.8889976538014633; … ; 0.10436680937744491 0.9568389626211882 0.18755834100517; 0.2151744537951783 0.10486236751993916 0.1360792058415501;;; 0.9442859422644201 0.8391326888775513 0.8697317872731116; 0.5229495110468702 0.5137229982263201 0.4453771320097638; … ; 0.7647269738245112 0.31491758048054863 0.205200136762259; 0.24896942399090083 0.9624352772167991 0.1823266757950981]\n",
       " [0.31449338956747774 0.602357956260335 0.05020276520548039; 0.7899241854200422 0.730371483204512 0.8136496823960349; … ; 0.6199727938612752 0.815025684384538 0.6126648082506736; 0.2917076070399409 0.8550146455333432 0.9621405138016581;;; 0.3064178979058161 0.884850463568451 0.7384870662437779; 0.42219926705612765 0.20465662014412445 0.07298757002744816; … ; 0.6003197576083804 0.20196210248314406 0.9950775436529151; 0.35009608330359254 0.5551547115550962 0.7516528634056338;;; 0.5983630050540489 0.3341877827598426 0.6646077820660722; 0.4355428391610564 0.10524480774734435 0.31663709404306073; … ; 0.1344895260942811 0.4157160789191534 0.7735201329547354; 0.4263474901379839 0.8643102933995752 0.7530571792839317;;; … ;;; 0.6245039735329351 0.4421801639949454 0.4636396848365304; 0.2943275527411118 0.7158137176104764 0.25745203815076856; … ; 0.42423109863077435 0.09561549566965555 0.6289458800853287; 0.7566744974620057 0.11588500142763802 0.5852973941956919;;; 0.789374353312668 0.8536357421446819 0.7322475901412524; 0.07290606974586222 0.5484037347910775 0.18274225670720923; … ; 0.8013489873485896 0.4138402958353008 0.03504388905496869; 0.8006760178486466 0.0497401450887186 0.3937289755248682;;; 0.11144014939436009 0.9263252087171973 0.34661595286117963; 0.32896243795598934 0.11035508908957659 0.43667039077231695; … ; 0.26365063376311026 0.5734012556344223 0.12000046615275894; 0.6728010630330343 0.9124676963646761 0.2842564843938542]\n",
       " [0.9919268118631427 0.4032861442221982 0.2169789240862937; 0.6684693045888657 0.3139422985816833 0.842505489598755; … ; 0.0012917974809596444 0.8799415928905807 0.3372793276886523; 0.9620436665822427 0.7998684314430654 0.7376586014004028;;; 0.6446236025621205 0.8932501063080962 0.4617164969099544; 0.0177201148299716 0.0517215949045946 0.9968799696362616; … ; 0.9929641737586745 0.2536012867394608 0.5963153931793784; 0.6498304726464978 0.8629621219804985 0.571414702239175;;; 0.26244502999527497 0.5362298843765327 0.5444714589049228; 0.6228125651888256 0.07390963935958161 0.8065278606828696; … ; 0.5948061506219705 0.5240421637042212 0.14553974400099756; 0.34082685795781564 0.16312053233794332 0.3506797293365794;;; … ;;; 0.9461549410626888 0.9847258174525982 0.38394080055486324; 0.9665406692265558 0.7781581579966556 0.46625510666611314; … ; 0.11400310297024285 0.5269305907178157 0.4866947059665009; 0.021652611909201203 0.9578340360318842 0.07683071236680339;;; 0.25841680192741046 0.3325365696837379 0.9208632057270315; 0.20784362397336575 0.9445798807838311 0.3307714144356514; … ; 0.8031100760520228 0.49943424805020464 0.33450015989890347; 0.7250972864638989 0.041795918422267486 0.017206379392787685;;; 0.16542251670542596 0.304505321757754 0.7387586554871287; 0.7726476385065268 0.5219444296251325 0.795570329266401; … ; 0.7592354189920617 0.11870307922679213 0.8312792733645826; 0.5060151674626682 0.2183592990258626 0.17618316902283926]\n",
       " [0.13077695662881506 0.8863045819448464 0.04062226133073377; 0.33378642211033804 0.030160200082080424 0.7867556094974869; … ; 0.06485419030520079 0.09742617554190525 0.5540020870931137; 0.19632138254983644 0.026191950343425696 0.4681918513963478;;; 0.8557955693654652 0.2590235722559008 0.2508842944790465; 0.16464047588517194 0.8367304848825659 0.011243531019752506; … ; 0.5478861074729798 0.2869887342650397 0.14253247652095902; 0.9061392621003049 0.367516437346053 0.7673194839038296;;; 0.8378160079210388 0.13247394515133848 0.9298078929934525; 0.8997265835501871 0.535117268594155 0.04436994850623499; … ; 0.7399837007013702 0.8110216576149565 0.6720824935362777; 0.9212516805241306 0.4282625721897654 0.3884278719139187;;; … ;;; 0.8317564017887555 0.9837812039604931 0.2948901572002115; 0.3950581567419371 0.04912371685618466 0.5861906365203241; … ; 0.3505756986297621 0.3393461041189241 0.030960466753122473; 0.8968422015366877 0.004057919325978876 0.8899013380774637;;; 0.3125589274809114 0.5420537107342918 0.45246029693457823; 0.8030479631678988 0.3902227167550093 0.7430633589889293; … ; 0.3058727501194146 0.2051641982455198 0.5183839357487898; 0.6943697034689921 0.5261148216881734 0.8467468723520781;;; 0.29349589470724213 0.8523159160783175 0.008750089241428283; 0.12416470823120651 0.22054499371720515 0.6171139148487212; … ; 0.9738650496813106 0.5830499306649227 0.9804352971262593; 0.4991148491700388 0.45406033238685006 0.08871164115552066]\n",
       " [0.7038518992819395 0.6933937051303366 0.531916437574703; 0.45416141156361034 0.7691775829137729 0.22979380248041215; … ; 0.3816875499251535 0.021756349717602652 0.7897485730479841; 0.06581112890948815 0.8471260685375964 0.45649442474714286;;; 0.16725945849546342 0.37099031111029934 0.17774283589190576; 0.6243445756421683 0.5534123219023674 0.15840524962733138; … ; 0.6088503243960475 0.25356569604291535 0.07098849602447743; 0.5311642676362356 0.5631211638841945 0.386053975920181;;; 0.7560434182637341 0.2998240732891554 0.44030083671947384; 0.22186560676461997 0.8656586810439078 0.6599195518040041; … ; 0.7692437494640773 0.1787069469582162 0.037301261181189815; 0.7764001023326534 0.40618344029013165 0.29135275888399914;;; … ;;; 0.07142853815951056 0.24785597753340727 0.7560370102168741; 0.3589342242022877 0.8458657717179319 0.16442645983075843; … ; 0.9858953004383987 0.8227664371155315 0.08431862532479595; 0.6017435850075922 0.5312645985158089 0.09383124688379807;;; 0.9889180332542833 0.06580800309257351 0.8681194853649814; 0.41024508909978796 0.9308108941484197 0.8950928321583864; … ; 0.8899503260434805 0.9885161480525022 0.6138836917144928; 0.7398687463348022 0.24866960619020528 0.8699924742066799;;; 0.7643543087730464 0.3016547140976371 0.7844172408808748; 0.7614404743166023 0.2529312075021195 0.3342055795859179; … ; 0.3029517622128989 0.4643403917984952 0.514649105529753; 0.7006723352191218 0.6355945873580875 0.7077982845643279]\n",
       " [0.24162322721316665 0.6445549394073598 0.8103556627114851; 0.3940968055630625 0.3063840452526999 0.5359681266909854; … ; 0.047625970193605704 0.604862927086075 0.9804115460276143; 0.3876071223894929 0.9624969346961596 0.8931699003365264;;; 0.07024470039288044 0.15686537569833747 0.9472968548117299; 0.06431115099191165 0.8955880255879366 0.33345847025452213; … ; 0.8602253159316621 0.593927696821151 0.5259780498617914; 0.6996131625082239 0.4642330011476349 0.2839287182455842;;; 0.561390743013489 0.13372381068730632 0.06721839061413626; 0.9245148150879474 0.9913157756743645 0.4695407908062238; … ; 0.8092703999265294 0.5550381097334608 0.4194837880539034; 0.45668661042201075 0.031032889522481732 0.6551942207466126;;; … ;;; 0.6742471679859827 0.10629721188337682 0.14697178223090301; 0.30143281538882305 0.8608172687229845 0.4323543854107885; … ; 0.9835610776342812 0.5405085626305397 0.5354657962946194; 0.14465065065666705 0.8426326541082216 0.22938499388449585;;; 0.8684251153380217 0.7252183432889421 0.6034929841359911; 0.2811375063710939 0.40913002031590595 0.93209613823296; … ; 0.5347294142736083 0.32847216338078766 0.49911219833770737; 0.15044943123347576 0.6122079257451645 0.359641121488918;;; 0.14109640420387637 0.013799945045806283 0.19150375136305242; 0.9922094817478362 0.002193341915282754 0.707120768205576; … ; 0.6943234677305301 0.5477744456149676 0.5595890984323543; 0.03411079094188696 0.9982164908596575 0.1764571514895572]\n",
       " [0.7116854960771276 0.6369494594479571 0.8677667472004971; 0.4075508406072468 0.7214185221956014 0.40098179252610633; … ; 0.06060611607376465 0.20755510349731843 0.004716484834577317; 0.2808670598781584 0.11222320608398706 0.7663523689269213;;; 0.221013243087121 0.24878542153342775 0.14294538937257217; 0.008841881630927473 0.6738874866542035 0.8655298232711657; … ; 0.33440073439329787 0.8871175182150565 0.18145244039518726; 0.358376603676265 0.5255873274814059 0.5926064252509851;;; 0.5262746142750351 0.35419205010632615 0.3202958333252407; 0.7489163512499122 0.16751321284753562 0.08668874563143492; … ; 0.9069342608677967 0.5840823749440369 0.6977205016255118; 0.07132959043262221 0.183883546690088 0.57200080576251;;; … ;;; 0.9229349447369313 0.4618266165921331 0.1860268133656433; 0.443739004120287 0.7736023840481071 0.021195225197629952; … ; 0.19816203340541416 0.7107271159510928 0.20427076362622676; 0.8967855468582822 0.9096877184478572 0.8077866679440235;;; 0.8642841352937087 0.4140745646112566 0.8336130566033956; 0.8932518818825459 0.05231575192898508 0.2666123444783932; … ; 0.6590712797015846 0.5481361584497315 0.3607201409185181; 0.19384137817194413 0.5434123578372488 0.7207451096646631;;; 0.852495506432261 0.7077118209700807 0.9127352451209073; 0.3777179468998587 0.822771628814394 0.5117563154415139; … ; 0.9503518789739175 0.3594225189949638 0.2977426775419104; 0.36721058098669235 0.9457444999519314 0.33207274507795714]\n",
       " [0.019228575393440583 0.4871494553032505 0.5509769267211331; 0.3811572883773655 0.4938263672952635 0.951283179233241; … ; 0.13676756902143072 0.7588443213207327 0.7036372702769386; 0.7036869024094632 0.4739931556658611 0.5916104515477055;;;]"
      ]
     },
     "metadata": {},
     "output_type": "display_data"
    }
   ],
   "source": [
    "# parameters \n",
    "N = 10\n",
    "d = 3\n",
    "D = 20\n",
    "\n",
    "# random MPS\n",
    "#=\n",
    "    Order of legs: left-bottom-right\n",
    "    Note: this is the conventional order used for MPSs in the code.\n",
    "=#\n",
    "\n",
    "Mrand = []\n",
    "push!(Mrand, rand(1, d, D))\n",
    "for l in 2:N-1\n",
    "    push!(Mrand, rand(D, d, D))\n",
    "end\n",
    "push!(Mrand, rand(D, d, 1))"
   ]
  },
  {
   "cell_type": "markdown",
   "metadata": {},
   "source": [
    "$\\quad$ We now define a function that takes an MPS as input and transforms it into left canonical form, normalizing it. The output of this function is an equivalent description of the input MPS (apart from the normalization) where all tensors are left normalized. This is achieved using SVD, following the procedure depicted below.\n",
    "\n",
    "<img src=\"./img/LeftCanonical_procedure.svg\" width=\"50%\" style=\"display: block; margin-left: auto; margin-right: auto;\"/>\n",
    "\n",
    "<u>Clarifying note</u>: the dashed line is a graphical notation to symbolize that the tensor is normalized with respect to those indices. For example, if a 3-leg tensor $U^{\\alpha,\\sigma,\\beta}$ has a dashed line between legs $\\alpha$ and $\\sigma$, we have\n",
    "$$\n",
    "\\sum_{\\alpha,\\sigma} \\left( U^{\\alpha,\\sigma,\\beta} \\right)^* U^{\\alpha,\\sigma,\\beta'} = \\delta_{\\beta,\\beta'}, \n",
    "$$\n",
    "or, in matrix notation,\n",
    "$$\n",
    "U^\\dagger U = I,\n",
    "$$\n",
    "where the basis $\\{ (\\alpha,\\sigma),\\beta \\}$ is implicit."
   ]
  },
  {
   "cell_type": "code",
   "execution_count": null,
   "metadata": {},
   "outputs": [
    {
     "data": {
      "text/plain": [
       "left_canonical (generic function with 1 method)"
      ]
     },
     "metadata": {},
     "output_type": "display_data"
    }
   ],
   "source": [
    "function left_canonical(M)\n",
    "    Mcopy = copy(M)\n",
    "    N = length(Mcopy)\n",
    "\n",
    "    for n in 1:N\n",
    "        Taux = Mcopy[n]\n",
    "        Taux = reshape(Taux, (size(Taux, 1)*size(Taux, 2), size(Taux, 3)))\n",
    "        \n",
    "        F = svd(Taux)\n",
    "        U, S, Vdag = F\n",
    "        Mcopy[n] = reshape(U, (size(Mcopy[n], 1), size(Mcopy[n], 2), size(U, 2)))\n",
    "        SVdag = Diagonal(S) * transpose(Vdag)\n",
    "\n",
    "        if n < N\n",
    "            @tensor result[i, k, m] := SVdag[i, j] * Mcopy[n+1][j, k, m]\n",
    "            Mcopy[n+1] = result\n",
    "        end\n",
    "    end \n",
    "    \n",
    "    return Mcopy\n",
    "end"
   ]
  },
  {
   "cell_type": "markdown",
   "metadata": {},
   "source": [
    "$\\quad$ Let us now test the use of the previous function. For that matter, we will check if, after applying it, all tensors become left normalized, i.e.,\n",
    "\n",
    "<img src=\"./img/left_normalization.svg\" width=\"30%\" style=\"display: block; margin-left: auto; margin-right: auto;\"/>"
   ]
  },
  {
   "cell_type": "code",
   "execution_count": 7,
   "metadata": {},
   "outputs": [
    {
     "name": "stdout",
     "output_type": "stream",
     "text": [
      "l = 1, : max(|M[n] * M[n]^† - I|) = 1.4432899320127035e-15\n",
      "l = 2, : max(|M[n] * M[n]^† - I|) = 1.9984014443252818e-15\n",
      "l = 3, : max(|M[n] * M[n]^† - I|) = 2.4424906541753444e-15\n",
      "l = 4, : max(|M[n] * M[n]^† - I|) = 1.6653345369377348e-15\n",
      "l = 5, : max(|M[n] * M[n]^† - I|) = 1.5543122344752192e-15\n",
      "l = 6, : max(|M[n] * M[n]^† - I|) = 1.3322676295501878e-15\n",
      "l = 7, : max(|M[n] * M[n]^† - I|) = 2.886579864025407e-15\n",
      "l = 8, : max(|M[n] * M[n]^† - I|) = 2.4424906541753444e-15\n",
      "l = 9, : max(|M[n] * M[n]^† - I|) = 1.9984014443252818e-15\n",
      "l = 10, : max(|M[n] * M[n]^† - I|) = 4.440892098500626e-16\n"
     ]
    }
   ],
   "source": [
    "Mleft = left_canonical(Mrand)\n",
    "for n in 1:N\n",
    "    Mdag = conj.(permutedims(Mleft[n], (3, 2, 1)))\n",
    "    @tensor result[i, l] := Mdag[i, j, k] * Mleft[n][k, j, l]\n",
    "    MdagM = result\n",
    "    I = Diagonal(ones(size(Mleft[n], 3)))\n",
    "    diff = maximum(abs.(MdagM .- I))\n",
    "    println(\"l = $n, : max(|M[n] * M[n]^† - I|) = $diff\")\n",
    "end"
   ]
  },
  {
   "cell_type": "code",
   "execution_count": 82,
   "metadata": {},
   "outputs": [
    {
     "data": {
      "text/plain": [
       "right_canonical (generic function with 1 method)"
      ]
     },
     "metadata": {},
     "output_type": "display_data"
    }
   ],
   "source": [
    "function right_canonical(M)\n",
    "    Mcopy = copy(M)\n",
    "    N = length(Mcopy)\n",
    "\n",
    "    for n in N:-1:2\n",
    "        Taux = Mcopy[n]\n",
    "        Taux = reshape(Taux, (size(Taux, 1), size(Taux, 2)*size(Taux, 3)))\n",
    "\n",
    "        F = svd(Taux)\n",
    "        U, S, Vdag = F\n",
    "        Vdag = transpose(Vdag) \n",
    "\n",
    "        Mcopy[n] = reshape(Vdag, (size(Vdag, 1), size(Mcopy[n], 2), size(Mcopy[n], 3)))\n",
    "        US = U * Diagonal(S)\n",
    "\n",
    "        if n > 0\n",
    "            @tensor result[i, j, l] := Mcopy[n-1][i, j, k] * US[k, l]\n",
    "            Mcopy[n-1] = result\n",
    "        end\n",
    "    end \n",
    "    \n",
    "    return Mcopy\n",
    "end"
   ]
  },
  {
   "cell_type": "code",
   "execution_count": 84,
   "metadata": {},
   "outputs": [
    {
     "name": "stdout",
     "output_type": "stream",
     "text": [
      "l = 1, : max(|M[l] · M[l]^† - I|) = 1.6552893747887004e22\n",
      "l = 2, : max(|M[l] · M[l]^† - I|) = 1.5543122344752192e-15\n",
      "l = 3, : max(|M[l] · M[l]^† - I|) = 1.1102230246251565e-15\n",
      "l = 4, : max(|M[l] · M[l]^† - I|) = 1.7763568394002505e-15\n",
      "l = 5, : max(|M[l] · M[l]^† - I|) = 2.220446049250313e-15\n",
      "l = 6, : max(|M[l] · M[l]^† - I|) = 2.886579864025407e-15\n",
      "l = 7, : max(|M[l] · M[l]^† - I|) = 1.5543122344752192e-15\n",
      "l = 8, : max(|M[l] · M[l]^† - I|) = 2.3314683517128287e-15\n",
      "l = 9, : max(|M[l] · M[l]^† - I|) = 1.1102230246251565e-15\n",
      "l = 10, : max(|M[l] · M[l]^† - I|) = 6.661338147750939e-16\n"
     ]
    }
   ],
   "source": [
    "Mright = right_canonical(Mrand)\n",
    "for n in 1:N\n",
    "    Mdag = conj.(permutedims(Mright[n], (3, 2, 1)))\n",
    "    @tensor result[i, l] := Mright[n][i, j, k] * Mdag[k, j, l]\n",
    "    MMdag = result\n",
    "    I = Diagonal(ones(size(Mright[n], 1)))\n",
    "    diff = maximum(abs.(MMdag .- I))\n",
    "    println(\"l = $n, : max(|M[l] · M[l]^† - I|) = $diff\")\n",
    "end"
   ]
  },
  {
   "cell_type": "markdown",
   "metadata": {},
   "source": [
    "$\\quad$ As a final remark, we note that in tensor network algorithms starting with a random MPS with trivial outer bonds, it is standard practice to apply both 'LeftCanonical' and 'RightCanonical' functions once. This ensures two things: i) that the random MPS is normalized; ii) that some (redundant) bond dimensions (typically closer to the end sites) are trivially truncated due to the thin SVD."
   ]
  },
  {
   "cell_type": "code",
   "execution_count": 90,
   "metadata": {},
   "outputs": [
    {
     "name": "stdout",
     "output_type": "stream",
     "text": [
      "Dimensions of Mrand:\n",
      "n = 1 : (1, 3, 20)\n",
      "n = 2 : (20, 3, 20)\n",
      "n = 3 : (20, 3, 20)\n",
      "n = 4 : (20, 3, 20)\n",
      "n = 5 : (20, 3, 20)\n",
      "n = 6 : (20, 3, 20)\n",
      "n = 7 : (20, 3, 20)\n",
      "n = 8 : (20, 3, 20)\n",
      "n = 9 : (20, 3, 20)\n",
      "n = 10 : (20, 3, 1)\n",
      "\n",
      "After LeftCanonical function:\n",
      "n = 1  : (1, 3, 3)\n",
      "n = 2  : (3, 3, 9)\n",
      "n = 3  : (9, 3, 20)\n",
      "n = 4  : (20, 3, 20)\n",
      "n = 5  : (20, 3, 20)\n",
      "n = 6  : (20, 3, 20)\n",
      "n = 7  : (20, 3, 20)\n",
      "n = 8  : (20, 3, 20)\n",
      "n = 9  : (20, 3, 20)\n",
      "n = 10  : (20, 3, 1)\n",
      "\n",
      "After LeftCanonical and RightCanonical functions:\n",
      "n = 1  : (1, 3, 3)\n",
      "n = 2  : (3, 3, 9)\n",
      "n = 3  : (9, 3, 20)\n",
      "n = 4  : (20, 3, 20)\n",
      "n = 5  : (20, 3, 20)\n",
      "n = 6  : (20, 3, 20)\n",
      "n = 7  : (20, 3, 20)\n",
      "n = 8  : (20, 3, 9)\n",
      "n = 9  : (9, 3, 3)\n",
      "n = 10  : (3, 3, 1)\n"
     ]
    }
   ],
   "source": [
    "println(\"Dimensions of Mrand:\")\n",
    "for n in 1:N\n",
    "    println(\"n = $n : $(size(Mrand[n]))\")\n",
    "end \n",
    "\n",
    "Mrand2 = left_canonical(Mrand)\n",
    "println(\"\\nAfter LeftCanonical function:\")\n",
    "for n in 1:N\n",
    "    println(\"n = $n  : $(size(Mrand2[n]))\")\n",
    "end\n",
    "\n",
    "Mrand3 = right_canonical(Mrand2)\n",
    "println(\"\\nAfter LeftCanonical and RightCanonical functions:\")\n",
    "for n in 1:N\n",
    "    println(\"n = $n  : $(size(Mrand3[n]))\")\n",
    "end\n",
    "\n",
    "\n"
   ]
  },
  {
   "cell_type": "markdown",
   "metadata": {},
   "source": [
    "# MPOs of Hamiltonians\n",
    "\n",
    "$\\quad$ In this section, we show how to build the MPO of a model Hamiltonian, following the strategy explained in the manuscript. For concreteness, we focus on Hamiltonians of 1D quantum spin chains with open boundary conditions. A general representation of such an Hamiltonian MPO is depicted below, where $N$ is the number of sites in the chain and $d$ is the corresponding local dimension ($d=2s+1$ for a spin-$s$ system).\n",
    "\n",
    "<img src=\"./img/MPO_Hamiltonian.svg\" width=\"50%\" style=\"display: block; margin-left: auto; margin-right: auto;\"/>\n",
    "<br>\n",
    "\n",
    "For clarity purposes, we consider four different examples, which should illustrate how to do it for a general model.\n",
    "\n",
    "## i) XY model\n",
    "\n",
    "$\\quad$ The Hamiltonian of an XY open-ended chain is given by\n",
    "$$\n",
    "\\hat{\\mathcal{H}}_\\text{XY} = -\\sum_{l=0}^{N-2} \\left( \\hat{\\sigma}^x_l \\hat{\\sigma}^x_{l+1} + \\hat{\\sigma}^y_l \\hat{\\sigma}^y_{l+1} \\right),\n",
    "$$\n",
    "where $N$ is the number of $s=1/2$ spins and $\\hat{\\sigma}^{x/y}_l$ are the $x$/$y$ spin-1/2 operators at site $l$.\n",
    "\n",
    "$\\quad$ Straightforward manipulation gives\n",
    "$$\n",
    "\\hat{\\mathcal{H}}_\\text{XY} = -\\frac{1}{2} \\sum_{l=0}^{N-2} \\left( \\hat{\\sigma}^+_l \\hat{\\sigma}^-_{l+1} + \\hat{\\sigma}^-_l \\hat{\\sigma}^+_{l+1} \\right),\n",
    "$$\n",
    "where $\\hat{\\sigma}^\\pm_l = \\hat{\\sigma}^x_l \\pm \\mathrm{i} \\hat{\\sigma}^y_l$ are the spin ladder operators."
   ]
  },
  {
   "cell_type": "code",
   "execution_count": 106,
   "metadata": {},
   "outputs": [
    {
     "data": {
      "text/plain": [
       "xy_mpo (generic function with 1 method)"
      ]
     },
     "metadata": {},
     "output_type": "display_data"
    }
   ],
   "source": [
    "function xy_mpo(N)\n",
    "    sp = zeros((2, 2))\n",
    "    sp[1, 2] = 1\n",
    "\n",
    "    sm = zeros((2, 2))\n",
    "    sm[2, 1] = 1\n",
    "\n",
    "    I2 = Diagonal(ones(2, 2))\n",
    "\n",
    "    Hl = zeros((4, 2, 4, 2))\n",
    "    Hl[1,:,1,:] = I2\n",
    "    Hl[2,:,1,:] = sm\n",
    "    Hl[3,:,1,:] = sp\n",
    "    Hl[4,:,2,:] = -0.5*sp\n",
    "    Hl[4,:,3,:] = -0.5*sm\n",
    "    Hl[4,:,4,:] = I2\n",
    "\n",
    "    H = [Hl for l in 1:N]\n",
    "    H[1] = Hl[4:4,:,:,:]\n",
    "    H[N] = Hl[:,:,1:1,:]\n",
    "\n",
    "    return H\n",
    "end"
   ]
  },
  {
   "cell_type": "markdown",
   "metadata": {},
   "source": [
    "$\\quad$ For completeness, let us now show how to contract the Hamiltonian MPO to obtain the Hamiltonian matrix (in the physical basis), which can then be compared to that obtained by brute-force means. It must be noted that this procedure is not desired (and never done) in a tensor network algorithm, as the dimension of the Hamiltonian matrix scales exponentially with $N$, so that it can only be obtained for small $N$ (this remark is actually illustrative of how efficient MPOs are in the task of enconding the information of a model Hamiltonian). Here, we only do it to convince ourselves that the Hamiltonian MPO was properly constructed."
   ]
  },
  {
   "cell_type": "code",
   "execution_count": null,
   "metadata": {},
   "outputs": [
    {
     "data": {
      "text/plain": [
       "Hmat_xy (generic function with 1 method)"
      ]
     },
     "metadata": {},
     "output_type": "display_data"
    }
   ],
   "source": [
    "function Hmat_xy(N)\n",
    "    sp = zeros((2, 2))\n",
    "    sp[1, 2] = 1\n",
    "\n",
    "    sm = zeros((2, 2))\n",
    "    sm[2, 1] = 1\n",
    "\n",
    "    I2 = Diagonal(ones((2, 2)))\n",
    "\n",
    "    H = zeros((2^N, 2^N))\n",
    "    for n in 1:N-1\n",
    "        Ileft = Diagonal(ones((2^(n-1), 2^(n-1))))\n",
    "        Hmid = (-0.5 * kron(sp, sm)) + (-0.5 * kron(sm, sp))\n",
    "        Iright = Diagonal(ones((2^(N-n-1), 2^(N-n-1))))\n",
    "        H += kron(kron(Ileft, Hmid), Iright)\n",
    "    end\n",
    "\n",
    "    return H\n",
    "end\n"
   ]
  },
  {
   "cell_type": "code",
   "execution_count": null,
   "metadata": {},
   "outputs": [
    {
     "name": "stdout",
     "output_type": "stream",
     "text": [
      "difference between MPO and brute-force Hamiltonians = 0.0\n"
     ]
    }
   ],
   "source": [
    "N = 5\n",
    "H_mpo = xy_mpo(N)\n",
    "\n",
    "for n in 1:N\n",
    "    if n == 1\n",
    "        Taux = H_mpo[n][1,:,:,:]\n",
    "    else\n",
    "        @tensor result[i,k,l,m,o] := Taux[i,j,k] * H_mpo[n][j,l,m,o]\n",
    "        Taux = result\n",
    "        Taux = permutedims(Taux, (1, 3, 4, 2, 5))\n",
    "        Taux = reshape(Taux, (size(Taux, 1)*size(Taux, 2), \n",
    "                              size(Taux, 3), \n",
    "                              size(Taux, 4)*size(Taux, 5)))\n",
    "    end\n",
    "end\n",
    "\n",
    "Hmat = Taux[:, 1, :]\n",
    "Hmat2 = Hmat_xy(N)\n",
    "H_diff = maximum(abs.(Hmat .- Hmat2))\n",
    "\n",
    "println(\"difference between MPO and brute-force Hamiltonians = $H_diff\")"
   ]
  },
  {
   "cell_type": "code",
   "execution_count": 216,
   "metadata": {},
   "outputs": [
    {
     "data": {
      "text/plain": [
       "Heis_MPO (generic function with 1 method)"
      ]
     },
     "metadata": {},
     "output_type": "display_data"
    }
   ],
   "source": [
    "function Heis_MPO(N, J, h)\n",
    "    # spin-1 operators (bottom-top)\n",
    "    ## S^z_l\n",
    "    Sz = zeros((3,3))\n",
    "    Sz[1,1] = 1\n",
    "    Sz[3,3] = -1\n",
    "    ## S^+_l\n",
    "    Sp = zeros((3,3))\n",
    "    Sp[1,2] = sqrt(2)\n",
    "    Sp[2,3] = sqrt(2)\n",
    "    ## S^-_l\n",
    "    Sm = zeros((3,3))\n",
    "    Sm[2,1] = sqrt(2)\n",
    "    Sm[3,2] = sqrt(2)\n",
    "    ## I_l\n",
    "    I3 = Diagonal(ones((3, 3)))\n",
    "    \n",
    "    # MPO Hamiltonian (left-bottom-right-top)\n",
    "    ## H[l]\n",
    "    Hl = zeros((5,3,5,3))\n",
    "    Hl[1,:,1,:] = I3\n",
    "    Hl[2,:,1,:] = Sz\n",
    "    Hl[3,:,1,:] = Sm\n",
    "    Hl[4,:,1,:] = Sp\n",
    "    Hl[5,:,1,:] = -h*Sz\n",
    "    Hl[5,:,2,:] = J*Sz\n",
    "    Hl[5,:,3,:] = J/2*Sp\n",
    "    Hl[5,:,4,:] = J/2*Sm\n",
    "    Hl[5,:,5,:] = I3\n",
    "    \n",
    "    ## H\n",
    "    H = [Hl for l in 1:N]\n",
    "    H[1] = Hl[5:5,:,:,:]\n",
    "    H[N] = Hl[:,:,1:1,:]\n",
    "    \n",
    "    return H\n",
    "end"
   ]
  },
  {
   "cell_type": "markdown",
   "metadata": {},
   "source": [
    "## ii) Spin-1 Heisenberg model with Zeeman term\n",
    "\n",
    "$\\quad$ The Hamiltonian for an open-ended Heisenberg chain of $N$ $s=1$ spins, with a Zeeman term, is given by\n",
    "$$\n",
    "\\hat{\\mathcal{H}}_\\text{Heis} = J \\sum_{l=0}^{N-2} \\hat{\\vec{S}}_l \\cdot \\hat{\\vec{S}}_{l+1} - h \\sum_{l=0}^{N-1} \\hat{S}^z_l,\n",
    "$$\n",
    "where $J$ and $h$ are model parameters, and $\\hat{\\vec{S}}_l = (\\hat{S}^x_l, \\hat{S}^y_l, \\hat{S}^z_l)$ is the vector of spin-1 operators at site $l$.\n",
    "\n",
    "$\\quad$ Straightforward manipulation leads to\n",
    "$$\n",
    "\\hat{\\mathcal{H}}_\\text{Heis} = J \\sum_{l=0}^{N-2} \\left( \\hat{S}^z_l \\hat{S}^z_{l+1} + \\frac{1}{2} \\hat{S}^+_l \\hat{S}^-_{l+1} + \\frac{1}{2} \\hat{S}^-_l \\hat{S}^+_{l+1} \\right) - h \\sum_{l=0}^{N-1} \\hat{S}^z_l,\n",
    "$$\n",
    "where $\\hat{S}^\\pm_l = \\hat{S}^x_l \\pm \\mathrm{i} \\hat{S}^y_l$ are the spin ladder operators."
   ]
  },
  {
   "cell_type": "code",
   "execution_count": 251,
   "metadata": {},
   "outputs": [
    {
     "data": {
      "text/plain": [
       "Hmat_Heis (generic function with 1 method)"
      ]
     },
     "metadata": {},
     "output_type": "display_data"
    }
   ],
   "source": [
    "function Hmat_Heis(N,J,h)\n",
    "    # spin-1 operators\n",
    "    ## S^z_l\n",
    "    Sz = zeros((3,3))\n",
    "    Sz[1,1] = 1\n",
    "    Sz[3,3] = -1\n",
    "    ## S^+_l\n",
    "    Sp = zeros((3,3))\n",
    "    Sp[1,2] = sqrt(2)\n",
    "    Sp[2,3] = sqrt(2)\n",
    "    ## S^-_l\n",
    "    Sm = zeros((3,3))\n",
    "    Sm[2,1] = sqrt(2)\n",
    "    Sm[3,2] = sqrt(2)\n",
    "    ## I_l\n",
    "    I3 = Diagonal(ones((3, 3)))\n",
    "    \n",
    "    # Hamiltonian matrix\n",
    "    H = zeros((3^N,3^N))\n",
    "    for n in 1:N-1\n",
    "        Ileft = Diagonal(ones((3^(n-1), 3^(n-1)))) #I_0 x I_1 x ... I_{l-1}\n",
    "        Hmid = (J * kron(Sz,Sz)) + (J/2 * kron(Sp,Sm)) + (J/2 * kron(Sm,Sp))\n",
    "        Iright = Diagonal(ones((3^(N-n-1), 3^(N-n-1)))) #I_{l+2} x I_{l+3} x ... I_{N-1}\n",
    "        H += kron(kron(Ileft,Hmid),Iright)\n",
    "    end\n",
    "\n",
    "    for n in 1:N\n",
    "        Ileft = Diagonal(ones((3^(n-1), 3^(n-1)))) #I_0 x I_1 x ... I_{l-1}\n",
    "        Hmid = -h * Sz #-h * S^z_l\n",
    "        Iright = Diagonal(ones((3^(N-n), 3^(N-n)))) #I_{l+1} x I_{l+2} x ... I_{N-1}\n",
    "        H += kron(kron(Ileft,Hmid),Iright)\n",
    "    end\n",
    "    \n",
    "    return H\n",
    "end"
   ]
  },
  {
   "cell_type": "code",
   "execution_count": 253,
   "metadata": {},
   "outputs": [
    {
     "name": "stdout",
     "output_type": "stream",
     "text": [
      "difference between MPO and brute-force Hamiltonians = 2.220446049250313e-16\n"
     ]
    }
   ],
   "source": [
    "# parameters\n",
    "N = 5\n",
    "J = rand()\n",
    "h = rand()\n",
    "\n",
    "# Hamiltonian matrix from MPO\n",
    "H_MPO = Heis_MPO(N,J,h)\n",
    "for n in 1:N\n",
    "    if n == 1\n",
    "        Taux = H_MPO[n][1,:,:,:]\n",
    "    else\n",
    "        @tensor result[i,k,l,m,o] := Taux[i,j,k] * H_MPO[n][j,l,m,o]\n",
    "        Taux = result\n",
    "        Taux = permutedims(Taux, (1, 3, 4, 2, 5))\n",
    "        Taux = reshape(Taux, (size(Taux, 1)*size(Taux, 2), \n",
    "                              size(Taux, 3), \n",
    "                              size(Taux, 4)*size(Taux, 5)))\n",
    "    end\n",
    "end  \n",
    "\n",
    "Hmat = Taux[:,1,:]\n",
    "\n",
    "# brute-force Hamiltonian matrix\n",
    "Hmat2 = Hmat_Heis(N,J,h)\n",
    "\n",
    "# difference\n",
    "H_diff = maximum(abs.(Hmat .- Hmat2))\n",
    "\n",
    "println(\"difference between MPO and brute-force Hamiltonians = $H_diff\")"
   ]
  },
  {
   "cell_type": "code",
   "execution_count": null,
   "metadata": {},
   "outputs": [],
   "source": []
  },
  {
   "cell_type": "markdown",
   "metadata": {},
   "source": [
    "## iv) AKLT model\n",
    " \n",
    "$\\quad$ The AKLT model (https://doi.org/10.1103/PhysRevLett.59.799) describes a chain of $N$ $s=1$ spins, governed by the following Hamiltonian (assuming open boundary conditions):\n",
    "$$\n",
    "\\hat{\\mathcal{H}}_\\text{AKLT} = \\sum_{l=0}^{N-2} \\left[ \\hat{\\vec{S}}_l \\cdot \\hat{\\vec{S}}_{l+1} + \\frac{1}{3} \\left( \\hat{\\vec{S}}_l \\cdot \\hat{\\vec{S}}_{l+1} \\right)^2 \\right].\n",
    "$$\n",
    "\n",
    "$\\quad$ Straightforward manipulation leads to\n",
    "$$\n",
    "\\hat{\\mathcal{H}}_\\text{AKLT} = \\sum_{l=0}^{N-2} \\left[ \\hat{S}^z_l \\hat{S}^z_{l+1} + \\frac{1}{2} \\hat{S}^+_l \\hat{S}^-_{l+1} + \\frac{1}{2} \\hat{S}^-_l \\hat{S}^+_{l+1} + \\frac{1}{3} \\hat{S}^z_l \\hat{S}^z_l \\hat{S}^z_{l+1} \\hat{S}^z_{l+1} \\right. \\\\\n",
    "\\left. + \\frac{1}{6} \\hat{S}^z_l \\hat{S}^+_l \\hat{S}^z_{l+1} \\hat{S}^-_{l+1} + \\frac{1}{6} \\hat{S}^z_l \\hat{S}^-_l \\hat{S}^z_{l+1} \\hat{S}^+_{l+1} + \\frac{1}{6} \\hat{S}^+_l \\hat{S}^z_l \\hat{S}^-_{l+1} \\hat{S}^z_{l+1} + \\frac{1}{12} \\hat{S}^+_l \\hat{S}^+_l \\hat{S}^-_{l+1} \\hat{S}^-_{l+1} \\right. \\\\\n",
    "\\left. + \\frac{1}{12} \\hat{S}^+_l \\hat{S}^-_l \\hat{S}^-_{l+1} \\hat{S}^+_{l+1} + \\frac{1}{6} \\hat{S}^-_l \\hat{S}^z_l \\hat{S}^+_{l+1} \\hat{S}^z_{l+1} + \\frac{1}{12} \\hat{S}^-_l  \\hat{S}^+_l \\hat{S}^+_{l+1} \\hat{S}^-_{l+1} + \\frac{1}{12} \\hat{S}^-_l \\hat{S}^-_l \\hat{S}^+_{l+1} \\hat{S}^+_{l+1} \\right].\n",
    "$$"
   ]
  },
  {
   "cell_type": "code",
   "execution_count": null,
   "metadata": {},
   "outputs": [
    {
     "data": {
      "text/plain": [
       "AKLT_MPO (generic function with 1 method)"
      ]
     },
     "metadata": {},
     "output_type": "display_data"
    }
   ],
   "source": [
    "function AKLT_MPO(N)\n",
    "    # spin-1 operators (bottom-top)\n",
    "    ## S^z_l\n",
    "    Sz = zeros((3,3))\n",
    "    Sz[1,1] = 1\n",
    "    Sz[3,3] = -1\n",
    "    ## S^+_l\n",
    "    Sp = zeros((3,3))\n",
    "    Sp[1,2] = sqrt(2)\n",
    "    Sp[2,3] = sqrt(2)\n",
    "    ## S^-_l\n",
    "    Sm = zeros((3,3))\n",
    "    Sm[2,1] = sqrt(2)\n",
    "    Sm[3,2] = sqrt(2)\n",
    "    ## I_l\n",
    "    I3 = Diagonal(ones((3, 3)))\n",
    "    \n",
    "    # MPO Hamiltonian (left-bottom-right-top)\n",
    "    ## H[l]\n",
    "    Hl = zeros((14,3,14,3))\n",
    "    Hl[1,:,1,:] = I3\n",
    "    Hl[2,:,1,:] = Sz\n",
    "    Hl[3,:,1,:] = Sm\n",
    "    Hl[4,:,1,:] = Sp\n",
    "    Hl[5,:,1,:] = Sz * Sz\n",
    "    Hl[6,:,1,:] = Sz * Sm\n",
    "    Hl[7,:,1,:] = Sz * Sp\n",
    "    Hl[8,:,1,:] = Sm * Sz\n",
    "    Hl[9,:,1,:] = Sm * Sm\n",
    "    Hl[10,:,1,:] = Sm * Sp\n",
    "    Hl[11,:,1,:] = Sp * Sz\n",
    "    Hl[12,:,1,:] = Sp * Sm\n",
    "    Hl[13,:,1,:] = Sp * Sp\n",
    "    Hl[14,:,2,:] = Sz\n",
    "    Hl[14,:,3,:] = 0.5 * Sp\n",
    "    Hl[14,:,4,:] = 0.5 * Sm\n",
    "    Hl[14,:,5,:] = 1/3 * Sz * Sz\n",
    "    Hl[14,:,6,:] = 1/6 * Sz * Sp\n",
    "    Hl[14,:,7,:] = 1/6 * Sz * Sm\n",
    "    Hl[14,:,8,:] = 1/6 * Sp * Sz\n",
    "    Hl[14,:,9,:] = 1/12 * Sp * Sp\n",
    "    Hl[14,:,10,:] = 1/12 * Sp * Sm\n",
    "    Hl[14,:,11,:] = 1/6 * Sm * Sz\n",
    "    Hl[14,:,12,:] = 1/12 * Sm * Sp\n",
    "    Hl[14,:,13,:] = 1/12 * Sm * Sm\n",
    "    Hl[14,:,14,:] = I3\n",
    "    ## H\n",
    "    H = [Hl for l in 1:N]\n",
    "    H[1] = Hl[14:14,:,:,:]\n",
    "    H[N] = Hl[:,:,1:1,:]\n",
    "    \n",
    "    return H\n",
    "end "
   ]
  },
  {
   "cell_type": "code",
   "execution_count": 275,
   "metadata": {},
   "outputs": [
    {
     "data": {
      "text/plain": [
       "Hmat_AKLT (generic function with 1 method)"
      ]
     },
     "metadata": {},
     "output_type": "display_data"
    }
   ],
   "source": [
    "function Hmat_AKLT(N)\n",
    "    # spin-1 operators\n",
    "    ## S^z_l\n",
    "    Sz = zeros((3,3))\n",
    "    Sz[1,1] = 1\n",
    "    Sz[3,3] = -1\n",
    "    ## S^+_l\n",
    "    Sp = zeros((3,3))\n",
    "    Sp[1,2] = sqrt(2)\n",
    "    Sp[2,3] = sqrt(2)\n",
    "    ## S^-_l\n",
    "    Sm = zeros((3,3))\n",
    "    Sm[2,1] = sqrt(2)\n",
    "    Sm[3,2] = sqrt(2)\n",
    "    ## I_l\n",
    "    I3 = Diagonal(ones(3))\n",
    "    \n",
    "    # Hamiltonian matrix\n",
    "    H = zeros((3^N,3^N))\n",
    "    for n in 1:N-1\n",
    "        Ileft = Diagonal(ones(3^(n-1))) #I_0 x I_1 x ... I_{l-1}\n",
    "        Hmid = kron(Sz,Sz) #S^z_l x S^z_{l+1}\n",
    "        Hmid += 0.5 * kron(Sp,Sm) #1/2 * S^+_l x S^-_{l+1}\n",
    "        Hmid += 0.5 * kron(Sm,Sp) #1/2 * S^-_l x S^+_{l+1}\n",
    "        Hmid += (1/3) * kron((Sz * Sz), (Sz * Sz)) #1/3 * (S^z_l * S^z_l) x (S^z_{l+1} * S^z_{l+1})\n",
    "        Hmid += (1/6) * kron((Sz * Sp), (Sz * Sm)) #1/6 * (S^z_l * S^+_l) x (S^z_{l+1} * S^-_{l+1})\n",
    "        Hmid += (1/6) * kron((Sz * Sm), (Sz * Sp)) #1/6 * (S^z_l * S^-_l) x (S^z_{l+1} * S^+_{l+1})\n",
    "        Hmid += (1/6) * kron((Sp * Sz), (Sm * Sz)) #1/6 * (S^+_l * S^z_l) x (S^-_{l+1} * S^z_{l+1})\n",
    "        Hmid += (1/12) * kron((Sp * Sp), (Sm * Sm)) #1/12 * (S^+_l * S^+_l) x (S^-_{l+1} * S^-_{l+1})\n",
    "        Hmid += (1/12) * kron((Sp * Sm), (Sm * Sp)) #1/12 * (S^+_l * S^-_l) x (S^-_{l+1} * S^+_{l+1})\n",
    "        Hmid += (1/6) * kron((Sm * Sz), (Sp * Sz)) #1/6 * (S^-_l * S^z_l) x (S^+_{l+1} * S^z_{l+1})\n",
    "        Hmid += (1/12) * kron((Sm * Sp), (Sp * Sm)) #1/12 * (S^-_l * S^+_l) x (S^+_{l+1} * S^-_{l+1})\n",
    "        Hmid += (1/12) * kron((Sm * Sm), (Sp * Sp)) #1/12 * (S^-_l * S^-_l) x (S^+_{l+1} * S^+_{l+1})\n",
    "        Iright = Diagonal(ones(3^(N-n-1))) #I_{l+2} x I_{l+3} x ... I_{N-1}\n",
    "        H += kron(kron(Ileft,Hmid),Iright)\n",
    "    end\n",
    "    return H\n",
    "\n",
    "end\n"
   ]
  },
  {
   "cell_type": "code",
   "execution_count": 279,
   "metadata": {},
   "outputs": [],
   "source": [
    "# parameters\n",
    "N = 5\n",
    "\n",
    "# Hamiltonian matrix from MPO\n",
    "H_MPO = AKLT_MPO(N)\n",
    "for n in 1:N\n",
    "    if n == 1\n",
    "        Taux = H_MPO[n][1,:,:,:]\n",
    "    else\n",
    "        @tensor result[i,k,l,m,o] := Taux[i,j,k] * H_MPO[n][j,l,m,o]\n",
    "        Taux = result\n",
    "        Taux = permutedims(Taux, (1, 3, 4, 2, 5))\n",
    "        Taux = reshape(Taux, (size(Taux, 1)*size(Taux, 2), \n",
    "                              size(Taux, 3), \n",
    "                              size(Taux, 4)*size(Taux, 5)))\n",
    "    end\n",
    "end                           \n",
    "Hmat = Taux[:,1,:]\n",
    "\n",
    "# brute-force Hamiltonian matrix\n",
    "Hmat2 = Hmat_AKLT(N)\n",
    "\n",
    "# difference\n",
    "H_diff = maximum(abs.(Hmat .- Hmat2))\n",
    "\n",
    "println(\"difference between MPO and brute-force Hamiltonians = $H_diff\")"
   ]
  }
 ],
 "metadata": {
  "kernelspec": {
   "display_name": "Julia 1.11.4",
   "language": "julia",
   "name": "julia-1.11"
  },
  "language_info": {
   "file_extension": ".jl",
   "mimetype": "application/julia",
   "name": "julia",
   "version": "1.11.4"
  }
 },
 "nbformat": 4,
 "nbformat_minor": 2
}
