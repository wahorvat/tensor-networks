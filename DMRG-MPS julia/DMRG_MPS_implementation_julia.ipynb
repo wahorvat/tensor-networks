{
 "cells": [
  {
   "cell_type": "code",
   "execution_count": 4,
   "metadata": {},
   "outputs": [],
   "source": [
    "using ITensors\n",
    "using LinearAlgebra\n",
    "using Einsum\n",
    "using Plots"
   ]
  },
  {
   "cell_type": "markdown",
   "metadata": {},
   "source": [
    "### Canonical Forms\n",
    "\n"
   ]
  },
  {
   "cell_type": "markdown",
   "metadata": {},
   "source": []
  },
  {
   "cell_type": "code",
   "execution_count": null,
   "metadata": {},
   "outputs": [],
   "source": [
    "# parameters \n",
    "N = 10\n",
    "d = 3\n",
    "D = 20\n",
    "\n",
    "# random MPS\n",
    "#=\n",
    "    Order of legs: left-bottom-right\n",
    "    Note: this is the conventional order used for MPSs in the code.\n",
    "=#\n",
    "\n",
    "Mrand = []\n",
    "push!(Mrand, rand(1, d, D))\n",
    "for l in 2:N-1\n",
    "    push!(Mrand,rand(1, d, D))\n",
    "end \n",
    "push!(Mrand,rand(1, d, D))"
   ]
  },
  {
   "cell_type": "code",
   "execution_count": null,
   "metadata": {},
   "outputs": [],
   "source": [
    "#=\n",
    "    Function that takes an MPS 'M' as input and returns a copy of it that is\n",
    "    transformed into left canonical form and normalized.\n",
    "=#\n",
    "\n",
    "function left_canonical(M)\n",
    "    Mcopy = copy(M)\n",
    "\n",
    "    N = length(Mcopy)\n",
    "\n",
    "    for l in 1:N\n",
    "        Taux = Mcopy[l]\n",
    "        Taux = reshape(Taux, (size(Taux, 1)*size(Taux, 2), size(Taux, 3)))\n",
    "\n",
    "        # SVD\n",
    "        U, S, Vdag = svd(Taux, full=false)\n",
    "\n",
    "        Mcopy[l] = reshape(U, (size(Mcopy[l], 1), size(Mcopy[l], 2), size(U, 2)))\n",
    "\n",
    "        SVdag = Diagonal(S) * Vdag\n",
    "        if l < N-1\n",
    "            @einsum Mcopy[l+1][i,k,m] = SVdag[i,j] * Mcopy[l+1][j,k,m]\n",
    "        else\n",
    "            break\n",
    "        end\n",
    "    end\n",
    "    \n",
    "    return Mcopy\n",
    "end \n",
    "    "
   ]
  }
 ],
 "metadata": {
  "kernelspec": {
   "display_name": "Julia 1.11.4",
   "language": "julia",
   "name": "julia-1.11"
  },
  "language_info": {
   "file_extension": ".jl",
   "mimetype": "application/julia",
   "name": "julia",
   "version": "1.11.4"
  }
 },
 "nbformat": 4,
 "nbformat_minor": 2
}
