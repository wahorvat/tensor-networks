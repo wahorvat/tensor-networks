{
 "cells": [
  {
   "cell_type": "code",
   "execution_count": 2,
   "metadata": {},
   "outputs": [],
   "source": [
    "using LinearAlgebra\n",
    "using TensorOperations\n",
    "using Plots"
   ]
  },
  {
   "cell_type": "markdown",
   "metadata": {},
   "source": [
    "### Canonical Forms\n",
    "\n"
   ]
  },
  {
   "cell_type": "code",
   "execution_count": 3,
   "metadata": {},
   "outputs": [
    {
     "name": "stdout",
     "output_type": "stream",
     "text": [
      "10\n",
      "20\n",
      "3\n",
      "20\n"
     ]
    }
   ],
   "source": [
    "# parameters \n",
    "N = 10\n",
    "d = 3\n",
    "D = 20\n",
    "\n",
    "# random MPS\n",
    "#=\n",
    "    Order of legs: left-bottom-right\n",
    "    Note: this is the conventional order used for MPSs in the code.\n",
    "=#\n",
    "\n",
    "Mrand = []\n",
    "push!(Mrand, rand(1, d, D))\n",
    "for l in 2:N-1\n",
    "    push!(Mrand, rand(D, d, D))\n",
    "end\n",
    "push!(Mrand, rand(D, d, 1))\n",
    "\n",
    "println(size(Mrand, 1))\n",
    "println(size(Mrand[2], 1))\n",
    "println(size(Mrand[2], 2))\n",
    "println(size(Mrand[2], 3))"
   ]
  },
  {
   "cell_type": "code",
   "execution_count": 4,
   "metadata": {},
   "outputs": [
    {
     "data": {
      "text/plain": [
       "left_canonical (generic function with 1 method)"
      ]
     },
     "metadata": {},
     "output_type": "display_data"
    }
   ],
   "source": [
    "function left_canonical(M)\n",
    "    Mcopy = copy(M)\n",
    "    N = length(Mcopy)\n",
    "\n",
    "    for l in 1:N\n",
    "        Taux = Mcopy[l]\n",
    "        Taux = reshape(Taux, (size(Taux, 1)*size(Taux, 2), size(Taux, 3)))\n",
    "        \n",
    "        F = svd(Taux)\n",
    "        U, S, Vdag = F\n",
    "        Mcopy[l] = reshape(U, (size(Mcopy[l], 1), size(Mcopy[l], 2), size(U, 2)))\n",
    "        SVdag = Diagonal(S) * transpose(Vdag)\n",
    "\n",
    "        if l < N\n",
    "            @tensor result[i, k, m] := SVdag[i, j] * Mcopy[l+1][j, k, m]\n",
    "            Mcopy[l+1] = result\n",
    "        end\n",
    "    end \n",
    "    \n",
    "    return Mcopy\n",
    "end"
   ]
  },
  {
   "cell_type": "code",
   "execution_count": 7,
   "metadata": {},
   "outputs": [
    {
     "name": "stdout",
     "output_type": "stream",
     "text": [
      "l = 1, : max(|M[n] * M[n]^† - I|) = 1.4432899320127035e-15\n",
      "l = 2, : max(|M[n] * M[n]^† - I|) = 1.9984014443252818e-15\n",
      "l = 3, : max(|M[n] * M[n]^† - I|) = 2.4424906541753444e-15\n",
      "l = 4, : max(|M[n] * M[n]^† - I|) = 1.6653345369377348e-15\n",
      "l = 5, : max(|M[n] * M[n]^† - I|) = 1.5543122344752192e-15\n",
      "l = 6, : max(|M[n] * M[n]^† - I|) = 1.3322676295501878e-15\n",
      "l = 7, : max(|M[n] * M[n]^† - I|) = 2.886579864025407e-15\n",
      "l = 8, : max(|M[n] * M[n]^† - I|) = 2.4424906541753444e-15\n",
      "l = 9, : max(|M[n] * M[n]^† - I|) = 1.9984014443252818e-15\n",
      "l = 10, : max(|M[n] * M[n]^† - I|) = 4.440892098500626e-16\n"
     ]
    }
   ],
   "source": [
    "Mleft = left_canonical(Mrand)\n",
    "for n in 1:N\n",
    "    Mdag = conj.(permutedims(Mleft[n], (3, 2, 1)))\n",
    "    @tensor result[i, l] := Mdag[i, j, k] * Mleft[n][k, j, l]\n",
    "    MdagM = result\n",
    "    I = Diagonal(ones(size(Mleft[n], 3)))\n",
    "    diff = maximum(abs.(MdagM .- I))\n",
    "    println(\"l = $n, : max(|M[n] * M[n]^† - I|) = $diff\")\n",
    "end"
   ]
  },
  {
   "cell_type": "code",
   "execution_count": null,
   "metadata": {},
   "outputs": [
    {
     "ename": "UndefVarError",
     "evalue": "UndefVarError: `n` not defined in `Main`\nSuggestion: check for spelling errors or missing imports.",
     "output_type": "error",
     "traceback": [
      "UndefVarError: `n` not defined in `Main`\n",
      "Suggestion: check for spelling errors or missing imports.\n",
      "\n",
      "Stacktrace:\n",
      " [1] top-level scope\n",
      "   @ ~/Desktop/tensor-networks/DMRG-MPS julia/jl_notebook_cell_df34fa98e69747e1a8f8a730347b8e2f_W5sZmlsZQ==.jl:1"
     ]
    }
   ],
   "source": [
    "\n",
    "\n",
    "println(\"l=$n, Mdag dimensions: $(size(Mdag))\")"
   ]
  },
  {
   "cell_type": "code",
   "execution_count": null,
   "metadata": {},
   "outputs": [],
   "source": []
  }
 ],
 "metadata": {
  "kernelspec": {
   "display_name": "Julia 1.11.4",
   "language": "julia",
   "name": "julia-1.11"
  },
  "language_info": {
   "file_extension": ".jl",
   "mimetype": "application/julia",
   "name": "julia",
   "version": "1.11.4"
  }
 },
 "nbformat": 4,
 "nbformat_minor": 2
}
