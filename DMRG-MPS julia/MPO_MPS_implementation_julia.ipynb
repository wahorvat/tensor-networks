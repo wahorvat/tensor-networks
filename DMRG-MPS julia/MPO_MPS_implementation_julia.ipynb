{
 "cells": [
  {
   "cell_type": "code",
   "execution_count": 278,
   "metadata": {},
   "outputs": [],
   "source": [
    "using LinearAlgebra\n",
    "using TensorOperations\n",
    "using Plots"
   ]
  },
  {
   "cell_type": "markdown",
   "metadata": {},
   "source": [
    "### Canonical Forms\n",
    "\n",
    "$\\quad$ Before going into the implementation of DMRG, we first build a function that transforms an arbitrary MPS into a convenient canonical form.\n",
    "\n",
    "$\\quad$ We start by creating a random MPS with $N$ sites, physical dimension $d$ (for simplicity, equal in all sites) and bond dimension $D$ (for simplicity, equal in all bonds, except for the outer bonds, which are set trivial), as depicted below.\n",
    "\n",
    "<img src=\"./img/MPS.png\" width=\"50%\" style=\"display: block; margin-left: auto; margin-right: auto;\"/>"
   ]
  },
  {
   "cell_type": "code",
   "execution_count": 281,
   "metadata": {},
   "outputs": [],
   "source": [
    "# parameters \n",
    "N = 10\n",
    "d = 3\n",
    "D = 20\n",
    "\n",
    "# random MPS\n",
    "#=\n",
    "    Order of legs: left-bottom-right\n",
    "    Note: this is the conventional order used for MPSs in the code.\n",
    "=#\n",
    "\n",
    "Mrand = []\n",
    "push!(Mrand, rand(1, d, D))\n",
    "for l in 2:N-1\n",
    "    push!(Mrand, rand(D, d, D))\n",
    "end\n",
    "push!(Mrand, rand(D, d, 1));"
   ]
  },
  {
   "cell_type": "markdown",
   "metadata": {},
   "source": [
    "$\\quad$ We now define a function that takes an MPS as input and transforms it into left canonical form, normalizing it. The output of this function is an equivalent description of the input MPS (apart from the normalization) where all tensors are left normalized. This is achieved using SVD, following the procedure depicted below.\n",
    "\n",
    "<img src=\"./img/LeftCanonical_procedure.png\" width=\"50%\" style=\"display: block; margin-left: auto; margin-right: auto;\"/>\n",
    "\n",
    "<u>Clarifying note</u>: the dashed line is a graphical notation to symbolize that the tensor is normalized with respect to those indices. For example, if a 3-leg tensor $U^{\\alpha,\\sigma,\\beta}$ has a dashed line between legs $\\alpha$ and $\\sigma$, we have\n",
    "$$\n",
    "\\sum_{\\alpha,\\sigma} \\left( U^{\\alpha,\\sigma,\\beta} \\right)^* U^{\\alpha,\\sigma,\\beta'} = \\delta_{\\beta,\\beta'}, \n",
    "$$\n",
    "or, in matrix notation,\n",
    "$$\n",
    "U^\\dagger U = I,\n",
    "$$\n",
    "where the basis $\\{ (\\alpha,\\sigma),\\beta \\}$ is implicit."
   ]
  },
  {
   "cell_type": "code",
   "execution_count": null,
   "metadata": {},
   "outputs": [
    {
     "data": {
      "text/plain": [
       "left_canonical (generic function with 1 method)"
      ]
     },
     "metadata": {},
     "output_type": "display_data"
    }
   ],
   "source": [
    "function left_canonical(M)\n",
    "    Mcopy = copy(M)\n",
    "    N = length(Mcopy)\n",
    "\n",
    "    for n in 1:N\n",
    "        Taux = Mcopy[n]\n",
    "        Taux = reshape(Taux, (size(Taux, 1)*size(Taux, 2), size(Taux, 3)))\n",
    "        \n",
    "        F = svd(Taux)\n",
    "        U, S, Vdag = F\n",
    "        Mcopy[n] = reshape(U, (size(Mcopy[n], 1), size(Mcopy[n], 2), size(U, 2)))\n",
    "        SVdag = Diagonal(S) * transpose(Vdag)\n",
    "\n",
    "        if n < N\n",
    "            @tensor result[i, k, m] := SVdag[i, j] * Mcopy[n+1][j, k, m]\n",
    "            Mcopy[n+1] = result\n",
    "        end\n",
    "    end \n",
    "    \n",
    "    return Mcopy\n",
    "end"
   ]
  },
  {
   "cell_type": "markdown",
   "metadata": {},
   "source": [
    "$\\quad$ Let us now test the use of the previous function. For that matter, we will check if, after applying it, all tensors become left normalized, i.e.,\n",
    "\n",
    "<img src=\"./img/left_normalization.png\" width=\"30%\" style=\"display: block; margin-left: auto; margin-right: auto;\"/>"
   ]
  },
  {
   "cell_type": "code",
   "execution_count": 7,
   "metadata": {},
   "outputs": [
    {
     "name": "stdout",
     "output_type": "stream",
     "text": [
      "l = 1, : max(|M[n] * M[n]^† - I|) = 1.4432899320127035e-15\n",
      "l = 2, : max(|M[n] * M[n]^† - I|) = 1.9984014443252818e-15\n",
      "l = 3, : max(|M[n] * M[n]^† - I|) = 2.4424906541753444e-15\n",
      "l = 4, : max(|M[n] * M[n]^† - I|) = 1.6653345369377348e-15\n",
      "l = 5, : max(|M[n] * M[n]^† - I|) = 1.5543122344752192e-15\n",
      "l = 6, : max(|M[n] * M[n]^† - I|) = 1.3322676295501878e-15\n",
      "l = 7, : max(|M[n] * M[n]^† - I|) = 2.886579864025407e-15\n",
      "l = 8, : max(|M[n] * M[n]^† - I|) = 2.4424906541753444e-15\n",
      "l = 9, : max(|M[n] * M[n]^† - I|) = 1.9984014443252818e-15\n",
      "l = 10, : max(|M[n] * M[n]^† - I|) = 4.440892098500626e-16\n"
     ]
    }
   ],
   "source": [
    "Mleft = left_canonical(Mrand)\n",
    "for n in 1:N\n",
    "    Mdag = conj.(permutedims(Mleft[n], (3, 2, 1)))\n",
    "    @tensor result[i, l] := Mdag[i, j, k] * Mleft[n][k, j, l]\n",
    "    MdagM = result\n",
    "    I = Diagonal(ones(size(Mleft[n], 3)))\n",
    "    diff = maximum(abs.(MdagM .- I))\n",
    "    println(\"l = $n, : max(|M[n] * M[n]^† - I|) = $diff\")\n",
    "end"
   ]
  },
  {
   "cell_type": "code",
   "execution_count": 82,
   "metadata": {},
   "outputs": [
    {
     "data": {
      "text/plain": [
       "right_canonical (generic function with 1 method)"
      ]
     },
     "metadata": {},
     "output_type": "display_data"
    }
   ],
   "source": [
    "function right_canonical(M)\n",
    "    Mcopy = copy(M)\n",
    "    N = length(Mcopy)\n",
    "\n",
    "    for n in N:-1:2\n",
    "        Taux = Mcopy[n]\n",
    "        Taux = reshape(Taux, (size(Taux, 1), size(Taux, 2)*size(Taux, 3)))\n",
    "\n",
    "        F = svd(Taux)\n",
    "        U, S, Vdag = F\n",
    "        Vdag = transpose(Vdag) \n",
    "\n",
    "        Mcopy[n] = reshape(Vdag, (size(Vdag, 1), size(Mcopy[n], 2), size(Mcopy[n], 3)))\n",
    "        US = U * Diagonal(S)\n",
    "\n",
    "        if n > 0\n",
    "            @tensor result[i, j, l] := Mcopy[n-1][i, j, k] * US[k, l]\n",
    "            Mcopy[n-1] = result\n",
    "        end\n",
    "    end \n",
    "    \n",
    "    return Mcopy\n",
    "end"
   ]
  },
  {
   "cell_type": "code",
   "execution_count": 84,
   "metadata": {},
   "outputs": [
    {
     "name": "stdout",
     "output_type": "stream",
     "text": [
      "l = 1, : max(|M[l] · M[l]^† - I|) = 1.6552893747887004e22\n",
      "l = 2, : max(|M[l] · M[l]^† - I|) = 1.5543122344752192e-15\n",
      "l = 3, : max(|M[l] · M[l]^† - I|) = 1.1102230246251565e-15\n",
      "l = 4, : max(|M[l] · M[l]^† - I|) = 1.7763568394002505e-15\n",
      "l = 5, : max(|M[l] · M[l]^† - I|) = 2.220446049250313e-15\n",
      "l = 6, : max(|M[l] · M[l]^† - I|) = 2.886579864025407e-15\n",
      "l = 7, : max(|M[l] · M[l]^† - I|) = 1.5543122344752192e-15\n",
      "l = 8, : max(|M[l] · M[l]^† - I|) = 2.3314683517128287e-15\n",
      "l = 9, : max(|M[l] · M[l]^† - I|) = 1.1102230246251565e-15\n",
      "l = 10, : max(|M[l] · M[l]^† - I|) = 6.661338147750939e-16\n"
     ]
    }
   ],
   "source": [
    "Mright = right_canonical(Mrand)\n",
    "for n in 1:N\n",
    "    Mdag = conj.(permutedims(Mright[n], (3, 2, 1)))\n",
    "    @tensor result[i, l] := Mright[n][i, j, k] * Mdag[k, j, l]\n",
    "    MMdag = result\n",
    "    I = Diagonal(ones(size(Mright[n], 1)))\n",
    "    diff = maximum(abs.(MMdag .- I))\n",
    "    println(\"l = $n, : max(|M[l] · M[l]^† - I|) = $diff\")\n",
    "end"
   ]
  },
  {
   "cell_type": "markdown",
   "metadata": {},
   "source": [
    "$\\quad$ As a final remark, we note that in tensor network algorithms starting with a random MPS with trivial outer bonds, it is standard practice to apply both 'LeftCanonical' and 'RightCanonical' functions once. This ensures two things: i) that the random MPS is normalized; ii) that some (redundant) bond dimensions (typically closer to the end sites) are trivially truncated due to the thin SVD."
   ]
  },
  {
   "cell_type": "code",
   "execution_count": 90,
   "metadata": {},
   "outputs": [
    {
     "name": "stdout",
     "output_type": "stream",
     "text": [
      "Dimensions of Mrand:\n",
      "n = 1 : (1, 3, 20)\n",
      "n = 2 : (20, 3, 20)\n",
      "n = 3 : (20, 3, 20)\n",
      "n = 4 : (20, 3, 20)\n",
      "n = 5 : (20, 3, 20)\n",
      "n = 6 : (20, 3, 20)\n",
      "n = 7 : (20, 3, 20)\n",
      "n = 8 : (20, 3, 20)\n",
      "n = 9 : (20, 3, 20)\n",
      "n = 10 : (20, 3, 1)\n",
      "\n",
      "After LeftCanonical function:\n",
      "n = 1  : (1, 3, 3)\n",
      "n = 2  : (3, 3, 9)\n",
      "n = 3  : (9, 3, 20)\n",
      "n = 4  : (20, 3, 20)\n",
      "n = 5  : (20, 3, 20)\n",
      "n = 6  : (20, 3, 20)\n",
      "n = 7  : (20, 3, 20)\n",
      "n = 8  : (20, 3, 20)\n",
      "n = 9  : (20, 3, 20)\n",
      "n = 10  : (20, 3, 1)\n",
      "\n",
      "After LeftCanonical and RightCanonical functions:\n",
      "n = 1  : (1, 3, 3)\n",
      "n = 2  : (3, 3, 9)\n",
      "n = 3  : (9, 3, 20)\n",
      "n = 4  : (20, 3, 20)\n",
      "n = 5  : (20, 3, 20)\n",
      "n = 6  : (20, 3, 20)\n",
      "n = 7  : (20, 3, 20)\n",
      "n = 8  : (20, 3, 9)\n",
      "n = 9  : (9, 3, 3)\n",
      "n = 10  : (3, 3, 1)\n"
     ]
    }
   ],
   "source": [
    "println(\"Dimensions of Mrand:\")\n",
    "for n in 1:N\n",
    "    println(\"n = $n : $(size(Mrand[n]))\")\n",
    "end \n",
    "\n",
    "Mrand2 = left_canonical(Mrand)\n",
    "println(\"\\nAfter LeftCanonical function:\")\n",
    "for n in 1:N\n",
    "    println(\"n = $n  : $(size(Mrand2[n]))\")\n",
    "end\n",
    "\n",
    "Mrand3 = right_canonical(Mrand2)\n",
    "println(\"\\nAfter LeftCanonical and RightCanonical functions:\")\n",
    "for n in 1:N\n",
    "    println(\"n = $n  : $(size(Mrand3[n]))\")\n",
    "end\n",
    "\n",
    "\n"
   ]
  },
  {
   "cell_type": "markdown",
   "metadata": {},
   "source": [
    "# MPOs of Hamiltonians\n",
    "\n",
    "$\\quad$ In this section, we show how to build the MPO of a model Hamiltonian, following the strategy explained in the manuscript. For concreteness, we focus on Hamiltonians of 1D quantum spin chains with open boundary conditions. A general representation of such an Hamiltonian MPO is depicted below, where $N$ is the number of sites in the chain and $d$ is the corresponding local dimension ($d=2s+1$ for a spin-$s$ system).\n",
    "\n",
    "<img src=\"./img/MPO_Hamiltonian.png\" width=\"50%\" style=\"display: block; margin-left: auto; margin-right: auto;\"/>\n",
    "<br>\n",
    "\n",
    "For clarity purposes, we consider four different examples, which should illustrate how to do it for a general model.\n",
    "\n",
    "## i) XY model\n",
    "\n",
    "$\\quad$ The Hamiltonian of an XY open-ended chain is given by\n",
    "$$\n",
    "\\hat{\\mathcal{H}}_\\text{XY} = -\\sum_{l=0}^{N-2} \\left( \\hat{\\sigma}^x_l \\hat{\\sigma}^x_{l+1} + \\hat{\\sigma}^y_l \\hat{\\sigma}^y_{l+1} \\right),\n",
    "$$\n",
    "where $N$ is the number of $s=1/2$ spins and $\\hat{\\sigma}^{x/y}_l$ are the $x$/$y$ spin-1/2 operators at site $l$.\n",
    "\n",
    "$\\quad$ Straightforward manipulation gives\n",
    "$$\n",
    "\\hat{\\mathcal{H}}_\\text{XY} = -\\frac{1}{2} \\sum_{l=0}^{N-2} \\left( \\hat{\\sigma}^+_l \\hat{\\sigma}^-_{l+1} + \\hat{\\sigma}^-_l \\hat{\\sigma}^+_{l+1} \\right),\n",
    "$$\n",
    "where $\\hat{\\sigma}^\\pm_l = \\hat{\\sigma}^x_l \\pm \\mathrm{i} \\hat{\\sigma}^y_l$ are the spin ladder operators."
   ]
  },
  {
   "cell_type": "code",
   "execution_count": 106,
   "metadata": {},
   "outputs": [
    {
     "data": {
      "text/plain": [
       "xy_mpo (generic function with 1 method)"
      ]
     },
     "metadata": {},
     "output_type": "display_data"
    }
   ],
   "source": [
    "function xy_mpo(N)\n",
    "    sp = zeros((2, 2))\n",
    "    sp[1, 2] = 1\n",
    "\n",
    "    sm = zeros((2, 2))\n",
    "    sm[2, 1] = 1\n",
    "\n",
    "    I2 = Diagonal(ones(2, 2))\n",
    "\n",
    "    Hl = zeros((4, 2, 4, 2))\n",
    "    Hl[1,:,1,:] = I2\n",
    "    Hl[2,:,1,:] = sm\n",
    "    Hl[3,:,1,:] = sp\n",
    "    Hl[4,:,2,:] = -0.5*sp\n",
    "    Hl[4,:,3,:] = -0.5*sm\n",
    "    Hl[4,:,4,:] = I2\n",
    "\n",
    "    H = [Hl for l in 1:N]\n",
    "    H[1] = Hl[4:4,:,:,:]\n",
    "    H[N] = Hl[:,:,1:1,:]\n",
    "\n",
    "    return H\n",
    "end"
   ]
  },
  {
   "cell_type": "markdown",
   "metadata": {},
   "source": [
    "$\\quad$ For completeness, let us now show how to contract the Hamiltonian MPO to obtain the Hamiltonian matrix (in the physical basis), which can then be compared to that obtained by brute-force means. It must be noted that this procedure is not desired (and never done) in a tensor network algorithm, as the dimension of the Hamiltonian matrix scales exponentially with $N$, so that it can only be obtained for small $N$ (this remark is actually illustrative of how efficient MPOs are in the task of enconding the information of a model Hamiltonian). Here, we only do it to convince ourselves that the Hamiltonian MPO was properly constructed."
   ]
  },
  {
   "cell_type": "code",
   "execution_count": null,
   "metadata": {},
   "outputs": [
    {
     "data": {
      "text/plain": [
       "Hmat_xy (generic function with 1 method)"
      ]
     },
     "metadata": {},
     "output_type": "display_data"
    }
   ],
   "source": [
    "function Hmat_xy(N)\n",
    "    sp = zeros((2, 2))\n",
    "    sp[1, 2] = 1\n",
    "\n",
    "    sm = zeros((2, 2))\n",
    "    sm[2, 1] = 1\n",
    "\n",
    "    I2 = Diagonal(ones((2, 2)))\n",
    "\n",
    "    H = zeros((2^N, 2^N))\n",
    "    for n in 1:N-1\n",
    "        Ileft = Diagonal(ones((2^(n-1), 2^(n-1))))\n",
    "        Hmid = (-0.5 * kron(sp, sm)) + (-0.5 * kron(sm, sp))\n",
    "        Iright = Diagonal(ones((2^(N-n-1), 2^(N-n-1))))\n",
    "        H += kron(kron(Ileft, Hmid), Iright)\n",
    "    end\n",
    "\n",
    "    return H\n",
    "end\n"
   ]
  },
  {
   "cell_type": "code",
   "execution_count": null,
   "metadata": {},
   "outputs": [
    {
     "name": "stdout",
     "output_type": "stream",
     "text": [
      "difference between MPO and brute-force Hamiltonians = 0.0\n"
     ]
    }
   ],
   "source": [
    "N = 5\n",
    "H_mpo = xy_mpo(N)\n",
    "\n",
    "for n in 1:N\n",
    "    if n == 1\n",
    "        Taux = H_mpo[n][1,:,:,:]\n",
    "    else\n",
    "        @tensor result[i,k,l,m,o] := Taux[i,j,k] * H_mpo[n][j,l,m,o]\n",
    "        Taux = result\n",
    "        Taux = permutedims(Taux, (1, 3, 4, 2, 5))\n",
    "        Taux = reshape(Taux, (size(Taux, 1)*size(Taux, 2), \n",
    "                              size(Taux, 3), \n",
    "                              size(Taux, 4)*size(Taux, 5)))\n",
    "    end\n",
    "end\n",
    "\n",
    "Hmat = Taux[:, 1, :]\n",
    "Hmat2 = Hmat_xy(N)\n",
    "H_diff = maximum(abs.(Hmat .- Hmat2))\n",
    "\n",
    "println(\"difference between MPO and brute-force Hamiltonians = $H_diff\")"
   ]
  },
  {
   "cell_type": "code",
   "execution_count": 216,
   "metadata": {},
   "outputs": [
    {
     "data": {
      "text/plain": [
       "Heis_MPO (generic function with 1 method)"
      ]
     },
     "metadata": {},
     "output_type": "display_data"
    }
   ],
   "source": [
    "function Heis_MPO(N, J, h)\n",
    "    # spin-1 operators (bottom-top)\n",
    "    ## S^z_l\n",
    "    Sz = zeros((3,3))\n",
    "    Sz[1,1] = 1\n",
    "    Sz[3,3] = -1\n",
    "    ## S^+_l\n",
    "    Sp = zeros((3,3))\n",
    "    Sp[1,2] = sqrt(2)\n",
    "    Sp[2,3] = sqrt(2)\n",
    "    ## S^-_l\n",
    "    Sm = zeros((3,3))\n",
    "    Sm[2,1] = sqrt(2)\n",
    "    Sm[3,2] = sqrt(2)\n",
    "    ## I_l\n",
    "    I3 = Diagonal(ones((3, 3)))\n",
    "    \n",
    "    # MPO Hamiltonian (left-bottom-right-top)\n",
    "    ## H[l]\n",
    "    Hl = zeros((5,3,5,3))\n",
    "    Hl[1,:,1,:] = I3\n",
    "    Hl[2,:,1,:] = Sz\n",
    "    Hl[3,:,1,:] = Sm\n",
    "    Hl[4,:,1,:] = Sp\n",
    "    Hl[5,:,1,:] = -h*Sz\n",
    "    Hl[5,:,2,:] = J*Sz\n",
    "    Hl[5,:,3,:] = J/2*Sp\n",
    "    Hl[5,:,4,:] = J/2*Sm\n",
    "    Hl[5,:,5,:] = I3\n",
    "    \n",
    "    ## H\n",
    "    H = [Hl for l in 1:N]\n",
    "    H[1] = Hl[5:5,:,:,:]\n",
    "    H[N] = Hl[:,:,1:1,:]\n",
    "    \n",
    "    return H\n",
    "end"
   ]
  },
  {
   "cell_type": "markdown",
   "metadata": {},
   "source": [
    "## ii) Spin-1 Heisenberg model with Zeeman term\n",
    "\n",
    "$\\quad$ The Hamiltonian for an open-ended Heisenberg chain of $N$ $s=1$ spins, with a Zeeman term, is given by\n",
    "$$\n",
    "\\hat{\\mathcal{H}}_\\text{Heis} = J \\sum_{l=0}^{N-2} \\hat{\\vec{S}}_l \\cdot \\hat{\\vec{S}}_{l+1} - h \\sum_{l=0}^{N-1} \\hat{S}^z_l,\n",
    "$$\n",
    "where $J$ and $h$ are model parameters, and $\\hat{\\vec{S}}_l = (\\hat{S}^x_l, \\hat{S}^y_l, \\hat{S}^z_l)$ is the vector of spin-1 operators at site $l$.\n",
    "\n",
    "$\\quad$ Straightforward manipulation leads to\n",
    "$$\n",
    "\\hat{\\mathcal{H}}_\\text{Heis} = J \\sum_{l=0}^{N-2} \\left( \\hat{S}^z_l \\hat{S}^z_{l+1} + \\frac{1}{2} \\hat{S}^+_l \\hat{S}^-_{l+1} + \\frac{1}{2} \\hat{S}^-_l \\hat{S}^+_{l+1} \\right) - h \\sum_{l=0}^{N-1} \\hat{S}^z_l,\n",
    "$$\n",
    "where $\\hat{S}^\\pm_l = \\hat{S}^x_l \\pm \\mathrm{i} \\hat{S}^y_l$ are the spin ladder operators."
   ]
  },
  {
   "cell_type": "code",
   "execution_count": 251,
   "metadata": {},
   "outputs": [
    {
     "data": {
      "text/plain": [
       "Hmat_Heis (generic function with 1 method)"
      ]
     },
     "metadata": {},
     "output_type": "display_data"
    }
   ],
   "source": [
    "function Hmat_Heis(N,J,h)\n",
    "    # spin-1 operators\n",
    "    ## S^z_l\n",
    "    Sz = zeros((3,3))\n",
    "    Sz[1,1] = 1\n",
    "    Sz[3,3] = -1\n",
    "    ## S^+_l\n",
    "    Sp = zeros((3,3))\n",
    "    Sp[1,2] = sqrt(2)\n",
    "    Sp[2,3] = sqrt(2)\n",
    "    ## S^-_l\n",
    "    Sm = zeros((3,3))\n",
    "    Sm[2,1] = sqrt(2)\n",
    "    Sm[3,2] = sqrt(2)\n",
    "    ## I_l\n",
    "    I3 = Diagonal(ones((3, 3)))\n",
    "    \n",
    "    # Hamiltonian matrix\n",
    "    H = zeros((3^N,3^N))\n",
    "    for n in 1:N-1\n",
    "        Ileft = Diagonal(ones((3^(n-1), 3^(n-1)))) #I_0 x I_1 x ... I_{l-1}\n",
    "        Hmid = (J * kron(Sz,Sz)) + (J/2 * kron(Sp,Sm)) + (J/2 * kron(Sm,Sp))\n",
    "        Iright = Diagonal(ones((3^(N-n-1), 3^(N-n-1)))) #I_{l+2} x I_{l+3} x ... I_{N-1}\n",
    "        H += kron(kron(Ileft,Hmid),Iright)\n",
    "    end\n",
    "\n",
    "    for n in 1:N\n",
    "        Ileft = Diagonal(ones((3^(n-1), 3^(n-1)))) #I_0 x I_1 x ... I_{l-1}\n",
    "        Hmid = -h * Sz #-h * S^z_l\n",
    "        Iright = Diagonal(ones((3^(N-n), 3^(N-n)))) #I_{l+1} x I_{l+2} x ... I_{N-1}\n",
    "        H += kron(kron(Ileft,Hmid),Iright)\n",
    "    end\n",
    "    \n",
    "    return H\n",
    "end"
   ]
  },
  {
   "cell_type": "code",
   "execution_count": 253,
   "metadata": {},
   "outputs": [
    {
     "name": "stdout",
     "output_type": "stream",
     "text": [
      "difference between MPO and brute-force Hamiltonians = 2.220446049250313e-16\n"
     ]
    }
   ],
   "source": [
    "# parameters\n",
    "N = 5\n",
    "J = rand()\n",
    "h = rand()\n",
    "\n",
    "# Hamiltonian matrix from MPO\n",
    "H_MPO = Heis_MPO(N,J,h)\n",
    "for n in 1:N\n",
    "    if n == 1\n",
    "        Taux = H_MPO[n][1,:,:,:]\n",
    "    else\n",
    "        @tensor result[i,k,l,m,o] := Taux[i,j,k] * H_MPO[n][j,l,m,o]\n",
    "        Taux = result\n",
    "        Taux = permutedims(Taux, (1, 3, 4, 2, 5))\n",
    "        Taux = reshape(Taux, (size(Taux, 1)*size(Taux, 2), \n",
    "                              size(Taux, 3), \n",
    "                              size(Taux, 4)*size(Taux, 5)))\n",
    "    end\n",
    "end  \n",
    "\n",
    "Hmat = Taux[:,1,:]\n",
    "\n",
    "# brute-force Hamiltonian matrix\n",
    "Hmat2 = Hmat_Heis(N,J,h)\n",
    "\n",
    "# difference\n",
    "H_diff = maximum(abs.(Hmat .- Hmat2))\n",
    "\n",
    "println(\"difference between MPO and brute-force Hamiltonians = $H_diff\")"
   ]
  },
  {
   "cell_type": "code",
   "execution_count": null,
   "metadata": {},
   "outputs": [],
   "source": []
  },
  {
   "cell_type": "markdown",
   "metadata": {},
   "source": [
    "## iv) AKLT model\n",
    " \n",
    "$\\quad$ The AKLT model (https://doi.org/10.1103/PhysRevLett.59.799) describes a chain of $N$ $s=1$ spins, governed by the following Hamiltonian (assuming open boundary conditions):\n",
    "$$\n",
    "\\hat{\\mathcal{H}}_\\text{AKLT} = \\sum_{l=0}^{N-2} \\left[ \\hat{\\vec{S}}_l \\cdot \\hat{\\vec{S}}_{l+1} + \\frac{1}{3} \\left( \\hat{\\vec{S}}_l \\cdot \\hat{\\vec{S}}_{l+1} \\right)^2 \\right].\n",
    "$$\n",
    "\n",
    "$\\quad$ Straightforward manipulation leads to\n",
    "$$\n",
    "\\begin{align*}\n",
    "\\hat{\\mathcal{H}}_\\text{AKLT} = \\sum_{l=0}^{N-2} \\Big[ &\\hat{S}^z_l \\hat{S}^z_{l+1} + \\frac{1}{2} \\hat{S}^+_l \\hat{S}^-_{l+1} + \\frac{1}{2} \\hat{S}^-_l \\hat{S}^+_{l+1} + \\frac{1}{3} \\hat{S}^z_l \\hat{S}^z_l \\hat{S}^z_{l+1} \\hat{S}^z_{l+1} \\\\\n",
    "&+ \\frac{1}{6} \\hat{S}^z_l \\hat{S}^+_l \\hat{S}^z_{l+1} \\hat{S}^-_{l+1} + \\frac{1}{6} \\hat{S}^z_l \\hat{S}^-_l \\hat{S}^z_{l+1} \\hat{S}^+_{l+1} + \\frac{1}{6} \\hat{S}^+_l \\hat{S}^z_l \\hat{S}^-_{l+1} \\hat{S}^z_{l+1} + \\frac{1}{6} \\hat{S}^-_l \\hat{S}^z_l \\hat{S}^+_{l+1} \\hat{S}^z_{l+1} \\\\\n",
    "&+ \\frac{1}{12} \\hat{S}^+_l \\hat{S}^+_l \\hat{S}^-_{l+1} \\hat{S}^-_{l+1} + \\frac{1}{12} \\hat{S}^+_l \\hat{S}^-_l \\hat{S}^-_{l+1} \\hat{S}^+_{l+1} + \\frac{1}{12} \\hat{S}^-_l \\hat{S}^+_l \\hat{S}^+_{l+1} \\hat{S}^-_{l+1} + \\frac{1}{12} \\hat{S}^-_l \\hat{S}^-_l \\hat{S}^+_{l+1} \\hat{S}^+_{l+1} \\Big].\n",
    "\\end{align*}\n",
    "$$"
   ]
  },
  {
   "cell_type": "code",
   "execution_count": null,
   "metadata": {},
   "outputs": [
    {
     "data": {
      "text/plain": [
       "AKLT_MPO (generic function with 1 method)"
      ]
     },
     "metadata": {},
     "output_type": "display_data"
    }
   ],
   "source": [
    "function AKLT_MPO(N)\n",
    "    # spin-1 operators (bottom-top)\n",
    "    ## S^z_l\n",
    "    Sz = zeros((3,3))\n",
    "    Sz[1,1] = 1\n",
    "    Sz[3,3] = -1\n",
    "    ## S^+_l\n",
    "    Sp = zeros((3,3))\n",
    "    Sp[1,2] = sqrt(2)\n",
    "    Sp[2,3] = sqrt(2)\n",
    "    ## S^-_l\n",
    "    Sm = zeros((3,3))\n",
    "    Sm[2,1] = sqrt(2)\n",
    "    Sm[3,2] = sqrt(2)\n",
    "    ## I_l\n",
    "    I3 = Diagonal(ones((3, 3)))\n",
    "    \n",
    "    # MPO Hamiltonian (left-bottom-right-top)\n",
    "    ## H[l]\n",
    "    Hl = zeros((14,3,14,3))\n",
    "    Hl[1,:,1,:] = I3\n",
    "    Hl[2,:,1,:] = Sz\n",
    "    Hl[3,:,1,:] = Sm\n",
    "    Hl[4,:,1,:] = Sp\n",
    "    Hl[5,:,1,:] = Sz * Sz\n",
    "    Hl[6,:,1,:] = Sz * Sm\n",
    "    Hl[7,:,1,:] = Sz * Sp\n",
    "    Hl[8,:,1,:] = Sm * Sz\n",
    "    Hl[9,:,1,:] = Sm * Sm\n",
    "    Hl[10,:,1,:] = Sm * Sp\n",
    "    Hl[11,:,1,:] = Sp * Sz\n",
    "    Hl[12,:,1,:] = Sp * Sm\n",
    "    Hl[13,:,1,:] = Sp * Sp\n",
    "    Hl[14,:,2,:] = Sz\n",
    "    Hl[14,:,3,:] = 0.5 * Sp\n",
    "    Hl[14,:,4,:] = 0.5 * Sm\n",
    "    Hl[14,:,5,:] = 1/3 * Sz * Sz\n",
    "    Hl[14,:,6,:] = 1/6 * Sz * Sp\n",
    "    Hl[14,:,7,:] = 1/6 * Sz * Sm\n",
    "    Hl[14,:,8,:] = 1/6 * Sp * Sz\n",
    "    Hl[14,:,9,:] = 1/12 * Sp * Sp\n",
    "    Hl[14,:,10,:] = 1/12 * Sp * Sm\n",
    "    Hl[14,:,11,:] = 1/6 * Sm * Sz\n",
    "    Hl[14,:,12,:] = 1/12 * Sm * Sp\n",
    "    Hl[14,:,13,:] = 1/12 * Sm * Sm\n",
    "    Hl[14,:,14,:] = I3\n",
    "    ## H\n",
    "    H = [Hl for l in 1:N]\n",
    "    H[1] = Hl[14:14,:,:,:]\n",
    "    H[N] = Hl[:,:,1:1,:]\n",
    "    \n",
    "    return H\n",
    "end "
   ]
  },
  {
   "cell_type": "code",
   "execution_count": 275,
   "metadata": {},
   "outputs": [
    {
     "data": {
      "text/plain": [
       "Hmat_AKLT (generic function with 1 method)"
      ]
     },
     "metadata": {},
     "output_type": "display_data"
    }
   ],
   "source": [
    "function Hmat_AKLT(N)\n",
    "    # spin-1 operators\n",
    "    ## S^z_l\n",
    "    Sz = zeros((3,3))\n",
    "    Sz[1,1] = 1\n",
    "    Sz[3,3] = -1\n",
    "    ## S^+_l\n",
    "    Sp = zeros((3,3))\n",
    "    Sp[1,2] = sqrt(2)\n",
    "    Sp[2,3] = sqrt(2)\n",
    "    ## S^-_l\n",
    "    Sm = zeros((3,3))\n",
    "    Sm[2,1] = sqrt(2)\n",
    "    Sm[3,2] = sqrt(2)\n",
    "    ## I_l\n",
    "    I3 = Diagonal(ones(3))\n",
    "    \n",
    "    # Hamiltonian matrix\n",
    "    H = zeros((3^N,3^N))\n",
    "    for n in 1:N-1\n",
    "        Ileft = Diagonal(ones(3^(n-1))) #I_0 x I_1 x ... I_{l-1}\n",
    "        Hmid = kron(Sz,Sz) #S^z_l x S^z_{l+1}\n",
    "        Hmid += 0.5 * kron(Sp,Sm) #1/2 * S^+_l x S^-_{l+1}\n",
    "        Hmid += 0.5 * kron(Sm,Sp) #1/2 * S^-_l x S^+_{l+1}\n",
    "        Hmid += (1/3) * kron((Sz * Sz), (Sz * Sz)) #1/3 * (S^z_l * S^z_l) x (S^z_{l+1} * S^z_{l+1})\n",
    "        Hmid += (1/6) * kron((Sz * Sp), (Sz * Sm)) #1/6 * (S^z_l * S^+_l) x (S^z_{l+1} * S^-_{l+1})\n",
    "        Hmid += (1/6) * kron((Sz * Sm), (Sz * Sp)) #1/6 * (S^z_l * S^-_l) x (S^z_{l+1} * S^+_{l+1})\n",
    "        Hmid += (1/6) * kron((Sp * Sz), (Sm * Sz)) #1/6 * (S^+_l * S^z_l) x (S^-_{l+1} * S^z_{l+1})\n",
    "        Hmid += (1/12) * kron((Sp * Sp), (Sm * Sm)) #1/12 * (S^+_l * S^+_l) x (S^-_{l+1} * S^-_{l+1})\n",
    "        Hmid += (1/12) * kron((Sp * Sm), (Sm * Sp)) #1/12 * (S^+_l * S^-_l) x (S^-_{l+1} * S^+_{l+1})\n",
    "        Hmid += (1/6) * kron((Sm * Sz), (Sp * Sz)) #1/6 * (S^-_l * S^z_l) x (S^+_{l+1} * S^z_{l+1})\n",
    "        Hmid += (1/12) * kron((Sm * Sp), (Sp * Sm)) #1/12 * (S^-_l * S^+_l) x (S^+_{l+1} * S^-_{l+1})\n",
    "        Hmid += (1/12) * kron((Sm * Sm), (Sp * Sp)) #1/12 * (S^-_l * S^-_l) x (S^+_{l+1} * S^+_{l+1})\n",
    "        Iright = Diagonal(ones(3^(N-n-1))) #I_{l+2} x I_{l+3} x ... I_{N-1}\n",
    "        H += kron(kron(Ileft,Hmid),Iright)\n",
    "    end\n",
    "    return H\n",
    "\n",
    "end\n"
   ]
  },
  {
   "cell_type": "code",
   "execution_count": 279,
   "metadata": {},
   "outputs": [],
   "source": [
    "# parameters\n",
    "N = 5\n",
    "\n",
    "# Hamiltonian matrix from MPO\n",
    "H_MPO = AKLT_MPO(N)\n",
    "for n in 1:N\n",
    "    if n == 1\n",
    "        Taux = H_MPO[n][1,:,:,:]\n",
    "    else\n",
    "        @tensor result[i,k,l,m,o] := Taux[i,j,k] * H_MPO[n][j,l,m,o]\n",
    "        Taux = result\n",
    "        Taux = permutedims(Taux, (1, 3, 4, 2, 5))\n",
    "        Taux = reshape(Taux, (size(Taux, 1)*size(Taux, 2), \n",
    "                              size(Taux, 3), \n",
    "                              size(Taux, 4)*size(Taux, 5)))\n",
    "    end\n",
    "end                           \n",
    "Hmat = Taux[:,1,:]\n",
    "\n",
    "# brute-force Hamiltonian matrix\n",
    "Hmat2 = Hmat_AKLT(N)\n",
    "\n",
    "# difference\n",
    "H_diff = maximum(abs.(Hmat .- Hmat2))\n",
    "\n",
    "println(\"difference between MPO and brute-force Hamiltonians = $H_diff\")"
   ]
  }
 ],
 "metadata": {
  "kernelspec": {
   "display_name": "Julia 1.11.4",
   "language": "julia",
   "name": "julia-1.11"
  },
  "language_info": {
   "file_extension": ".jl",
   "mimetype": "application/julia",
   "name": "julia",
   "version": "1.11.4"
  }
 },
 "nbformat": 4,
 "nbformat_minor": 2
}
