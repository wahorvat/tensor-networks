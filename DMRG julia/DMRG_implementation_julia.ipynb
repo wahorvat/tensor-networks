{
 "cells": [
  {
   "cell_type": "code",
   "execution_count": null,
   "metadata": {},
   "outputs": [],
   "source": [
    "using Dates\n",
    "using ITensors\n",
    "using Plots"
   ]
  },
  {
   "cell_type": "markdown",
   "metadata": {},
   "source": [
    "### 1D chain of Spin-1 particles - Classical Heisenberg Model\n",
    "\n",
    "A 1D spin chain with open boundary conditions and nearest neighbor interactions for spin-1 particles with coupling strength J is illustrated below.\n",
    "\n",
    "<img src=\"./img/spin-1%20chain.png\" alt=\"spin-1 chain\" width=\"50%\" style=\"display: block; margin-left: auto; margin-right: auto;\"/>\n",
    "\n",
    "The model is described by the following Hamiltonian,\n",
    "\n",
    "$$H = J \\sum_{i=1}^{N-1} \\vec{S}_i \\cdot \\vec{S}_{i+1}$$"
   ]
  },
  {
   "cell_type": "markdown",
   "metadata": {},
   "source": []
  }
 ],
 "metadata": {
  "kernelspec": {
   "display_name": "Julia 1.11.4",
   "language": "julia",
   "name": "julia-1.11"
  },
  "language_info": {
   "file_extension": ".jl",
   "mimetype": "application/julia",
   "name": "julia",
   "version": "1.11.4"
  }
 },
 "nbformat": 4,
 "nbformat_minor": 2
}
